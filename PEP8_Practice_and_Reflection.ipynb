{
  "cells": [
    {
      "cell_type": "markdown",
      "metadata": {
        "id": "view-in-github",
        "colab_type": "text"
      },
      "source": [
        "<a href=\"https://colab.research.google.com/github/Brachaglazer/Module4_Bracha_Glazer/blob/main/PEP8_Practice_and_Reflection.ipynb\" target=\"_parent\"><img src=\"https://colab.research.google.com/assets/colab-badge.svg\" alt=\"Open In Colab\"/></a>"
      ]
    },
    {
      "cell_type": "markdown",
      "id": "a1bf34cd",
      "metadata": {
        "id": "a1bf34cd"
      },
      "source": [
        "\n",
        "# [PEP 8](https://peps.python.org/pep-0008/#programming-recommendations) Style: Practice & Reflection (Loops • Decisions • Functions)\n",
        "\n",
        "**Name:** _Your Name Here_  \n",
        "**Course / Section:** _e.g., Programming I_  \n",
        "**Date:** _YYYY-MM-DD_\n",
        "\n",
        "**Learning goals**\n",
        "- Apply core [**PEP 8**](https://peps.python.org/pep-0008/#programming-recommendations) conventions to real code you write.\n",
        "- Practice writing **loops** and **decision structures** in a clean, readable style.\n",
        "- Use **functions** with clear names, docstrings, and (optional) type hints.\n",
        "- Reflect on *why* style matters and how it improves readability and collaboration.\n",
        "\n",
        "> ⚠️ **Honor Code:** Write your own explanations. You may discuss high-level ideas, but do not copy another student's text.\n"
      ]
    },
    {
      "cell_type": "markdown",
      "id": "c042d5df",
      "metadata": {
        "id": "c042d5df"
      },
      "source": [
        "\n",
        "## Part 0 — Reading Plan (15–20 min)\n",
        "\n",
        "[PEP 8](https://peps.python.org/pep-0008/#programming-recommendations) is the programatic style convention for coding in Python 3.\n",
        "It shows you exactly how to indent, how to skip lines between functions and code blocks, how to name variables, etc.\n",
        "\n",
        "NOTE : every language has their own programming conventions, PEP 8 is specific to Python 3\n",
        "\n",
        "In this assignment,  would like you to skim **the whole PEP 8** to see its scope, but **focus carefully** on these sections for today:\n",
        "1. **Code lay-out / Indentation**\n",
        "2. **Maximum line length** (and when/why to break lines)\n",
        "3. **Blank lines**\n",
        "4. **Imports** (high level awareness only)\n",
        "5. **Whitespace in expressions and statements** (e.g., around `=`, `+`, `,`)\n",
        "6. **Naming Conventions** (variables, functions) — avoid single letters unless obvious\n",
        "7. **Comments & Docstrings** (write what/why, not obvious how)\n",
        "8. **Programming Recommendations** (truthiness, `if cond is None`, etc.)\n",
        "\n",
        "> Suggested links (search \"PEP 8\" if needed): Python's official PEP 8, plus the \"pep8.org\" companion site.\n"
      ]
    },
    {
      "cell_type": "markdown",
      "id": "33067ffb",
      "metadata": {
        "id": "33067ffb"
      },
      "source": [
        "\n",
        "## Part 1 — Short Reflection (8–10 sentences total)\n",
        "\n",
        "Answer in **complete sentences** in the cell below.\n",
        "\n",
        "1. Which **three** PEP 8 rules will most improve your code *right now* and **why**?  \n",
        "2. Show a **small code snippet** (5–8 lines) you wrote previously and explain **two** changes you would make to align it with PEP 8.  \n",
        "3. When is it **reasonable to break PEP 8**, and how would you document that decision for teammates?  \n",
        "4. What PEP 8 rule did you **disagree with or find surprising**, and why?\n",
        "\n",
        "> Tip: You can insert code fences in Markdown using triple backticks.\n"
      ]
    },
    {
      "cell_type": "markdown",
      "id": "f4627a58",
      "metadata": {
        "id": "f4627a58"
      },
      "source": [
        "\n",
        "_Your reflection goes here._\n",
        "\n",
        "1. a)Maximum line length will improve my code right now because I very often find it difficult to have many tabs open while coding due to my lengthly lines.  \n",
        "\n",
        "   b)White spaces surrounding binary operaters will improve my code right now because proper spacing will make my code easier and clearer to read.  \n",
        "\n",
        "   c)Naming conventions will improve my code right now because it will make my code more organized and understandable.  \n",
        "\n",
        "2. Code:  \n",
        "```\n",
        "    day = input(\"What day of the week is it? (sun/mon/tues/wed/thurs/fri/sat) \").strip().lower()\n",
        "    hour = int(input(\"What hour is it? (0-23) \"))\n",
        "    holiday = input(\"Is it a holiday? (y/n) \").strip().lower()\n",
        "    weekday = day in {\"mon\",\"tues\",\"wed\",\"thurs\",\"fri\"}\n",
        "    rush = (7 <= hour <= 10) or (16 <= hour <=19)\n",
        "```\n",
        "Changes:  \n",
        "\n",
        "  a)I would put a space after each comma in the list inorder to align it with PEP 8.  \n",
        "    weekday = day in {\"mon\", \"tues\", \"wed\", \"thurs\", \"fri\"}\n",
        "\n",
        "  b)I would put a space after each operator, keeping it consistent throughout, inorder to align it with PEP 8.  \n",
        "    rush = (7 <= hour <= 10) or (16 <= hour <= 19)\n",
        "\n",
        "3. Sometimes the recommended PEP 8 is not supported by an older version of python that may be used. In such a case it would be reasonable to break PEP 8 guidelines. I would comment to my teammates by using block comments and writing \"The code here does not follow PEP 8 guidelines because the code will be run by an older version of python that is not compatable with the PEP 8 recommendations.\".\n",
        "\n",
        "4. I was surprised to learn that spaces is the preferred indentationn method. I thought that spaces would be more prone to mistakes, rather than using tabs.\n"
      ]
    },
    {
      "cell_type": "markdown",
      "id": "c5353b09",
      "metadata": {
        "id": "c5353b09"
      },
      "source": [
        "\n",
        "## Part 2 — Style Demonstrations (do, explain, and annotate)\n",
        "\n",
        "For each item below:\n",
        "- Write the **clean** version following PEP 8.\n",
        "- Add a one-sentence **explanation**: what rule did you apply and why?\n"
      ]
    },
    {
      "cell_type": "markdown",
      "id": "1b2f975b",
      "metadata": {
        "id": "1b2f975b"
      },
      "source": [
        "\n",
        "### 2A. Naming: variables & functions\n",
        "Bad → Fix it. Then explain the rules you applied.\n"
      ]
    },
    {
      "cell_type": "code",
      "execution_count": 6,
      "id": "b5d35183",
      "metadata": {
        "id": "b5d35183"
      },
      "outputs": [],
      "source": [
        "\n",
        "# ❌ Bad\n",
        "X=10\n",
        "def DO(x):return x*X\n",
        "\n",
        "# ✅ Good (rewrite below)\n",
        "# Your improved version:\n",
        "def multiply_by_global(multiplier: int) -> int:\n",
        "    \"\"\"Return multiplier times the module-level constant SCALE.\"\"\"\n",
        "    SCALE = 10  # prefer UPPERCASE for constants at module level; here local for demo\n",
        "    result = multiplier * SCALE\n",
        "    return result\n",
        "\n",
        "# Explanation (Markdown in the next cell):\n"
      ]
    },
    {
      "cell_type": "markdown",
      "id": "cb2a146a",
      "metadata": {
        "id": "cb2a146a"
      },
      "source": [
        "\n",
        "**Explain:** Which PEP 8 naming rules did you apply? Why is `SCALE` capitalized? Why is the function name lowercase with underscores?\n"
      ]
    },
    {
      "cell_type": "code",
      "source": [
        "def multiply_by_global(multiplier: int) -> int:   # prefer functions to be named lowercase with underscores separating the words inorder to improve readability.\n",
        "    \"\"\"Return multiplier times the module-level constant SCALE.\"\"\"\n",
        "    SCALE = 10  # prefer UPPERCASE for constants at module level; here local for demo\n",
        "    result = multiplier * SCALE\n",
        "    return result"
      ],
      "metadata": {
        "id": "cVCjICHvzvLR"
      },
      "id": "cVCjICHvzvLR",
      "execution_count": 11,
      "outputs": []
    },
    {
      "cell_type": "markdown",
      "id": "ad75d9fb",
      "metadata": {
        "id": "ad75d9fb"
      },
      "source": [
        "\n",
        "### 2B. Indentation & Maximum Line Length\n",
        "Refactor the following to avoid long lines and to align arguments clearly.\n"
      ]
    },
    {
      "cell_type": "code",
      "execution_count": 7,
      "id": "a3d88833",
      "metadata": {
        "id": "a3d88833",
        "colab": {
          "base_uri": "https://localhost:8080/"
        },
        "outputId": "4a3627e1-3ce5-4982-b283-d0bb47b29d8c"
      },
      "outputs": [
        {
          "output_type": "stream",
          "name": "stdout",
          "text": [
            "28.166666666666668\n"
          ]
        }
      ],
      "source": [
        "\n",
        "# ❌ Bad: crammed call, hard to read\n",
        "def compute(a,b,c,d,e,f,g,h,i): return (a+b)*(c+d)-(e/f)+g-h+i\n",
        "val=compute(1,2,3,4,5,6,7,8,9)\n",
        "\n",
        "# ✅ Good: rewrite below with line breaks and sensible parameter names\n",
        "def compute_sum_diff_ratio(\n",
        "    alpha: int,\n",
        "    beta: int,\n",
        "    gamma: int,\n",
        "    delta: int,\n",
        "    epsilon: int,\n",
        "    zeta: int,\n",
        "    eta: int,\n",
        "    theta: int,\n",
        "    iota: int,\n",
        ") -> float:\n",
        "    \"\"\"Sample function to demonstrate readable formatting and line length.\"\"\"\n",
        "    return (alpha + beta) * (gamma + delta) - (epsilon / zeta) + eta - theta + iota\n",
        "\n",
        "val = compute_sum_diff_ratio(\n",
        "    alpha=1, beta=2, gamma=3, delta=4, epsilon=5, zeta=6, eta=7, theta=8, iota=9\n",
        ")\n",
        "\n",
        "print(val)\n"
      ]
    },
    {
      "cell_type": "markdown",
      "id": "cedf9bca",
      "metadata": {
        "id": "cedf9bca"
      },
      "source": [
        "\n",
        "**Explain:** How did you keep lines ≤ 79–99 chars? Why are keyword arguments used? What indentation style did you use for parameters?\n"
      ]
    },
    {
      "cell_type": "code",
      "source": [
        "def compute_sum_diff_ratio(\n",
        "    alpha: int,  # Lines were kept <= 79-99 by putting each parameter on its own line (line breaks) and wrapping them together with paranthesis.\n",
        "    beta: int,\n",
        "    gamma: int,\n",
        "    delta: int,\n",
        "    epsilon: int,\n",
        "    zeta: int,\n",
        "    eta: int,\n",
        "    theta: int,\n",
        "    iota: int,\n",
        ") -> float:  # # The four space rule was used and the parenthesis were lined with \"the first character of the line that starts the multiline construct\".\n",
        "    \"\"\"Sample function to demonstrate readable formatting and line length.\"\"\"\n",
        "    return (alpha + beta) * (gamma + delta) - (epsilon / zeta) + eta - theta + iota\n",
        "\n",
        "val = compute_sum_diff_ratio(\n",
        "    alpha=1, beta=2, gamma=3, delta=4, epsilon=5, zeta=6, eta=7, theta=8, iota=9\n",
        ")  # Keyword arguments are used to make it clearer and easier to read.\n",
        "\n",
        "print(val)"
      ],
      "metadata": {
        "colab": {
          "base_uri": "https://localhost:8080/"
        },
        "id": "wtoHFm6c1vzB",
        "outputId": "41adbc43-e6d7-4891-9b1b-406e0a551420"
      },
      "id": "wtoHFm6c1vzB",
      "execution_count": 12,
      "outputs": [
        {
          "output_type": "stream",
          "name": "stdout",
          "text": [
            "28.166666666666668\n"
          ]
        }
      ]
    },
    {
      "cell_type": "markdown",
      "id": "d022bb43",
      "metadata": {
        "id": "d022bb43"
      },
      "source": [
        "\n",
        "### 2C. Whitespace in expressions & statements\n",
        "Fix spacing around operators, commas, and after `#` in comments.\n"
      ]
    },
    {
      "cell_type": "code",
      "execution_count": 8,
      "id": "02a9d532",
      "metadata": {
        "id": "02a9d532",
        "colab": {
          "base_uri": "https://localhost:8080/"
        },
        "outputId": "ef0df646-6f31-4361-85c2-d978058a7aee"
      },
      "outputs": [
        {
          "output_type": "stream",
          "name": "stdout",
          "text": [
            "0,2,4,6,8,0,2,4,6,8,"
          ]
        }
      ],
      "source": [
        "\n",
        "# ❌ Bad\n",
        "x= 1+2\n",
        "my_list=[1 ,2,3 ,4]\n",
        "for i  in  range( 0,10 ):#bad\n",
        "    if(i%2==0):print(i,end=',')\n",
        "\n",
        "# ✅ Good (rewrite below)\n",
        "x = 1 + 2\n",
        "my_list = [1, 2, 3, 4]\n",
        "for i in range(0, 10):  # good: space after '#', single spaces around keywords/operators\n",
        "    if i % 2 == 0:\n",
        "        print(i, end=\",\")\n"
      ]
    },
    {
      "cell_type": "code",
      "source": [
        "x = 1 + 2  # Spaces were put before and after all binary operators to make it easier to read.\n",
        "my_list = [1, 2, 3, 4]  # Spaces were put consistently, after each comma, within all list, to make it easier to read.\n",
        "for i in range(0, 10):  # good: space after '#', single spaces around keywords/operators- double space before # and single space after\n",
        "    if i % 2 == 0:\n",
        "        print(i, end=\",\")  # It is better not to put the body on the same line as the if statement to keep tthe code clear and easy to read."
      ],
      "metadata": {
        "colab": {
          "base_uri": "https://localhost:8080/"
        },
        "id": "O7dYSr_N6oOO",
        "outputId": "93687738-5f0f-4be2-bbc4-39fc4c587a28"
      },
      "id": "O7dYSr_N6oOO",
      "execution_count": 13,
      "outputs": [
        {
          "output_type": "stream",
          "name": "stdout",
          "text": [
            "0,2,4,6,8,"
          ]
        }
      ]
    },
    {
      "cell_type": "markdown",
      "id": "4a03e87f",
      "metadata": {
        "id": "4a03e87f"
      },
      "source": [
        "\n",
        "### 2D. Comments & Docstrings\n",
        "Add a **docstring** and **useful** comments (explain *why*, not the obvious *how*).\n",
        "\n",
        "NOTE your professor expects notation:\n",
        "\n",
        "1.   on each line of logic with #\n",
        "2.   each variable name\n",
        "3.   each function, class and method (we have not studied yet classes and methods) docstring \"\"\"\n",
        "4.   each program at the top with docstring \"\"\" which includes :\n",
        "5.   Your name\n",
        "6.   Purpose of program (we will add to this over time)\n",
        "7.   Date\n",
        "\n",
        "\n",
        "\n",
        "\n",
        "\n"
      ]
    },
    {
      "cell_type": "code",
      "execution_count": 9,
      "id": "726bdccb",
      "metadata": {
        "id": "726bdccb",
        "colab": {
          "base_uri": "https://localhost:8080/"
        },
        "outputId": "bb7da5e8-59f9-46dc-e301-4c96630b63ab"
      },
      "outputs": [
        {
          "output_type": "execute_result",
          "data": {
            "text/plain": [
              "3"
            ]
          },
          "metadata": {},
          "execution_count": 9
        }
      ],
      "source": [
        "\n",
        "def count_evens(nums):\n",
        "    \"\"\"Return the number of even integers in `nums`.\n",
        "\n",
        "    We check `n % 2 == 0` to classify even values.\n",
        "    \"\"\"\n",
        "    # Iterate once over the list for O(n) time.\n",
        "    count = 0\n",
        "    for n in nums:\n",
        "        if n % 2 == 0:\n",
        "            count += 1\n",
        "    return count\n",
        "\n",
        "# Test\n",
        "count_evens([1,2,3,4,5,6])\n"
      ]
    },
    {
      "cell_type": "markdown",
      "id": "f6533ef0",
      "metadata": {
        "id": "f6533ef0"
      },
      "source": [
        "\n",
        "**Explain:** What is the role of a docstring? How did you keep comments helpful (describing *why* vs restating the code)?\n"
      ]
    },
    {
      "cell_type": "markdown",
      "source": [
        "A docstring is a documentation string that usually explains the code following it. The comments are helpful by explaining what the code will do and not simply restating the code."
      ],
      "metadata": {
        "id": "jAPrKO6x9v_N"
      },
      "id": "jAPrKO6x9v_N"
    },
    {
      "cell_type": "markdown",
      "id": "20de23d7",
      "metadata": {
        "id": "20de23d7"
      },
      "source": [
        "\n",
        "### 2E. Programming Recommendations (truthiness, `is None`)\n",
        "\n",
        "Here you can see the code written poorly and correctly, with PEP 8  recommendations.\n"
      ]
    },
    {
      "cell_type": "code",
      "execution_count": 10,
      "id": "e82cac63",
      "metadata": {
        "id": "e82cac63"
      },
      "outputs": [],
      "source": [
        "\n",
        "# ❌ Bad\n",
        "def pick_message(msg):\n",
        "    if msg == None or msg == \"\":\n",
        "        return \"empty\"\n",
        "    if len(msg) == 0:\n",
        "        return \"empty\"\n",
        "    return msg\n",
        "\n",
        "# ✅ Good\n",
        "def pick_message(msg: str | None) :\n",
        "    if msg is None or msg == \"\":\n",
        "        return \"empty\"\n",
        "    return msg\n"
      ]
    },
    {
      "cell_type": "markdown",
      "id": "8063a974",
      "metadata": {
        "id": "8063a974"
      },
      "source": [
        "# 2 E question\n",
        "** >>>>> [link text](https://)Explain:** Why `is None` preferred over `== None`? When is truthiness (`if not msg`) appropriate, and when is it ambiguous?\n"
      ]
    },
    {
      "cell_type": "markdown",
      "source": [
        "\"is None\" is preferred over \"== None\" because \"== None\" checks the equality of \"None\" and \"is None\" checks the identity. When you're trying to check if msg is not there then it is appropriate to use, although, it is ambiguous when you are trying to find a false value."
      ],
      "metadata": {
        "id": "nFsZ0z18AQoJ"
      },
      "id": "nFsZ0z18AQoJ"
    },
    {
      "cell_type": "markdown",
      "id": "7ef944ee",
      "metadata": {
        "id": "7ef944ee"
      },
      "source": [
        "\n",
        "## Part 3 — loops + decisions\n",
        "\n",
        "**Demonstrated :** Clean up the code below to follow PEP 8 and improve readability. Keep the **same behavior**.\n",
        "\n",
        "Steps:\n",
        "1. Reformat for line length, naming, whitespace, and indentation.\n",
        "2. Extract helper functions with docstrings where it clarifies intent.\n",
        "3. Add 1–2 **assert-based tests** to show behavior is unchanged.\n",
        "\n",
        "Question : What is the difference between these two approaches, and how does it affect readability ?\n"
      ]
    },
    {
      "cell_type": "code",
      "execution_count": 15,
      "id": "0add1ac7",
      "metadata": {
        "id": "0add1ac7",
        "colab": {
          "base_uri": "https://localhost:8080/"
        },
        "outputId": "922518b8-7da1-47d9-898c-45dd2ea52323"
      },
      "outputs": [
        {
          "output_type": "stream",
          "name": "stdout",
          "text": [
            "SUM: 195\n"
          ]
        }
      ],
      "source": [
        "\n",
        "# ❌ Original (intentionally messy)\n",
        "def F(LIM):\n",
        "  s=0; i=0\n",
        "  while(i<LIM):\n",
        "     if(i%3==0 and i%5==0): s+=i\n",
        "     elif(i%3==0): s+=i\n",
        "     elif(i%5==0): s+=i\n",
        "     i=i+1\n",
        "  print(\"SUM:\",s)\n",
        "\n",
        "F(30)\n"
      ]
    },
    {
      "cell_type": "code",
      "execution_count": 16,
      "id": "7659a485",
      "metadata": {
        "id": "7659a485",
        "colab": {
          "base_uri": "https://localhost:8080/"
        },
        "outputId": "8225460d-c36d-4711-9659-dce00c9b7e6a"
      },
      "outputs": [
        {
          "output_type": "stream",
          "name": "stdout",
          "text": [
            "SUM: 195\n"
          ]
        }
      ],
      "source": [
        "\n",
        "# ✅ Your cleaned version (example solution shown)\n",
        "def is_multiple_of_3_or_5(n: int) -> bool:\n",
        "    \"\"\"Return True if n is a multiple of 3 or 5.\"\"\"\n",
        "    return (n % 3 == 0) or (n % 5 == 0)\n",
        "\n",
        "\n",
        "def sum_multiples(limit: int) -> int:\n",
        "    \"\"\"Return the sum of numbers in [0, limit) that are multiples of 3 or 5.\"\"\"\n",
        "    total = 0\n",
        "    for i in range(limit):\n",
        "        if is_multiple_of_3_or_5(i):\n",
        "            total += i\n",
        "    return total\n",
        "\n",
        "\n",
        "def main() -> None:\n",
        "    print(\"SUM:\", sum_multiples(30))\n",
        "\n",
        "\n",
        "# quick checks\n",
        "assert sum_multiples(10) == 23\n",
        "main()\n"
      ]
    },
    {
      "cell_type": "markdown",
      "source": [
        "The first uses one function with a while loop to complete the entire program. The second uses a function with a for loop to return the sum of numbers, this function calls another function to check the numbers, a third function is used to print the sum. The second approach is a lot clearer and easier to understand because it is divided up in a clear and comprehensive matter. The second also is obviously a lot clearer due to the proper spacing and naming."
      ],
      "metadata": {
        "id": "8v1wbgR0QGjr"
      },
      "id": "8v1wbgR0QGjr"
    },
    {
      "cell_type": "markdown",
      "source": [
        "## Part 4 : A study : How blank lines must be used in your code\n",
        "Observe : 2 blank lines before def multiply and def main.\n",
        "\n",
        "1 blank line between calculating total and product inside main (separates blocks).\n",
        "\n",
        "1 blank line before the if __name__ == \"__main__\": guard.\n",
        "\n",
        "### Question : insert a code block from assignment PA 1 Cafe, and show how it should be reformatted (before and after formatting). Explain what differences you have made, if any"
      ],
      "metadata": {
        "id": "KQrmuCv-7wms"
      },
      "id": "KQrmuCv-7wms"
    },
    {
      "cell_type": "code",
      "source": [
        "# ❌ Bad: no spaces, everything crammed\n",
        "def add(x,y):\n",
        "    return x+y\n",
        "def multiply(x,y):\n",
        "    return x*y\n",
        "def main():\n",
        "    total=add(2,3)\n",
        "    product=multiply(2,3)\n",
        "    if total>product:\n",
        "        print(\"Sum is larger\")\n",
        "    else:\n",
        "        print(\"Product is larger\")\n",
        "main()\n"
      ],
      "metadata": {
        "id": "gUvYlTtV79Gp"
      },
      "id": "gUvYlTtV79Gp",
      "execution_count": null,
      "outputs": []
    },
    {
      "cell_type": "code",
      "source": [
        "# ✅ Good: proper spacing\n",
        "def add(x: int, y: int) -> int:\n",
        "    \"\"\"Return the sum of x and y.\"\"\"\n",
        "    return x + y\n",
        "\n",
        "\n",
        "def multiply(x: int, y: int) -> int:\n",
        "    \"\"\"Return the product of x and y.\"\"\"\n",
        "    return x * y\n",
        "\n",
        "\n",
        "def main() -> None:\n",
        "    \"\"\"Compare sum vs product of two numbers.\"\"\"\n",
        "    total = add(2, 3)\n",
        "\n",
        "    # Separate logical blocks with one blank line\n",
        "    product = multiply(2, 3)\n",
        "\n",
        "    if total > product:\n",
        "        print(\"Sum is larger\")\n",
        "    else:\n",
        "        print(\"Product is larger\")\n",
        "\n",
        "\n",
        "# Separate main execution from definitions\n",
        "if __name__ == \"__main__\":\n",
        "    main()\n"
      ],
      "metadata": {
        "id": "_0MKdTlM8A4H"
      },
      "id": "_0MKdTlM8A4H",
      "execution_count": null,
      "outputs": []
    },
    {
      "cell_type": "code",
      "source": [
        "#Before:\n",
        "def line_total(unit_price,quantity):\n",
        "    return float(unit_price) * float(quantity)\n",
        "\n",
        "def format_currency(money):\n",
        "    return f\"${money:.2f}\"\n",
        "    # I removed a comment that was here because it was irrelevant.\n",
        "\n",
        "def compute_totals(subtotal, tax_rate, tip_percent):\n",
        "    tax = subtotal * tax_rate\n",
        "    tip = subtotal * (tip_percent / 100)\n",
        "    total = subtotal + tax + tip\n",
        "    return (tax, tip, total)\n",
        "\n",
        "def campus_cafe():\n",
        "    print(\"Cafe Menu:\")\n",
        "    print()\n",
        "    print(\"Coffee - $2.25\")\n",
        "    print(\"Muffin - $2.75\")\n",
        "    print(\"Bagel - $2.50\")\n",
        "    print()\n",
        "\n",
        "#After:\n",
        "def line_total(unit_price,quantity):\n",
        "    \"\"\"Return the product of unit_price and quantity.\"\"\"\n",
        "    # I added docstrings to each function.\n",
        "    return float(unit_price) * float(quantity)\n",
        "\n",
        "\n",
        "# I surrounded each top-level function with two blank lines to make it clearer.\n",
        "def format_currency(money):\n",
        "    \"\"\"Return money formatted properly, with two decimal spaces and $.\"\"\"\n",
        "    return f\"${money: .2f}\"\n",
        "    # I removed a comment that was here because it was irrelevant.\n",
        "\n",
        "\n",
        "def compute_totals(subtotal, tax_rate, tip_percent):\n",
        "    \"\"\"Return the product of subtotal and tax_rate, the product of subtotal and\n",
        "    tip_percent/100, and the sum of subtotal, tax, and tip.\n",
        "    \"\"\"\n",
        "    # I separated the logical blocks with a blank line to make it clearer.\n",
        "\n",
        "    tax = subtotal * tax_rate\n",
        "\n",
        "    tip = subtotal * (tip_percent / 100)\n",
        "\n",
        "    total = subtotal + tax + tip\n",
        "    return (tax, tip, total)\n",
        "\n",
        "\n",
        "def campus_cafe():\n",
        "    \"\"\"Print the cafe menu.\"\"\"\n",
        "    print(\"Cafe Menu:\")\n",
        "    print()\n",
        "    print(\"Coffee - $2.25\")\n",
        "    print(\"Muffin - $2.75\")\n",
        "    print(\"Bagel - $2.50\")\n",
        "    print()"
      ],
      "metadata": {
        "id": "-s-ul0m37wRp"
      },
      "id": "-s-ul0m37wRp",
      "execution_count": 17,
      "outputs": []
    },
    {
      "cell_type": "markdown",
      "id": "f264ed62",
      "metadata": {
        "id": "f264ed62"
      },
      "source": [
        "\n",
        "## Submission Checklist\n",
        "\n",
        "- [ ] I followed PEP 8 for naming, whitespace, docstrings, and line length.\n",
        "- [ ] I wrote clear explanations where requested.\n",
        "- [ ] My code passes my `assert` tests without errors.\n",
        "- [ ] I ran all cells (`Kernel → Restart & Run All`) before submitting.\n"
      ]
    },
    {
      "cell_type": "markdown",
      "id": "d8cd9eeb",
      "metadata": {
        "id": "d8cd9eeb"
      },
      "source": [
        "\n",
        "## Grading Rubric (20 pts)\n",
        "\n",
        "| Criterion | Points |\n",
        "|---|---:|\n",
        "| Reflection quality (insightful, specific, complete) | 4 |\n",
        "| 2A–2E demonstrations (correct style + explanation) | 6 |\n",
        "| Fix‑It workshop: readability + correctness + tests | 5 |\n",
        "| Clean code task: function, style, and tests | 5 |\n",
        "\n",
        "**Style penalties** (up to −3 total): inconsistent naming, poor spacing, missing/weak docstrings, >99 char lines without good reason.\n"
      ]
    }
  ],
  "metadata": {
    "colab": {
      "provenance": [],
      "include_colab_link": true
    },
    "language_info": {
      "name": "python"
    },
    "kernelspec": {
      "name": "python3",
      "display_name": "Python 3"
    }
  },
  "nbformat": 4,
  "nbformat_minor": 5
}