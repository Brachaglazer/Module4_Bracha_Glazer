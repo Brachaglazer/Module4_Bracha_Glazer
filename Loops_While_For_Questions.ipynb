{
  "cells": [
    {
      "cell_type": "markdown",
      "metadata": {
        "id": "view-in-github",
        "colab_type": "text"
      },
      "source": [
        "<a href=\"https://colab.research.google.com/github/Brachaglazer/Module4_Bracha_Glazer/blob/main/Loops_While_For_Questions.ipynb\" target=\"_parent\"><img src=\"https://colab.research.google.com/assets/colab-badge.svg\" alt=\"Open In Colab\"/></a>"
      ]
    },
    {
      "cell_type": "markdown",
      "id": "7d25b115",
      "metadata": {
        "id": "7d25b115"
      },
      "source": [
        "\n",
        "# While & For Mastery — Syntax, Patterns, and Programs\n",
        "\n",
        "**Name:** _Your Name_  \n",
        "**Course:** _Programming I_  \n",
        "**Date:** _YYYY-MM-DD_\n",
        "\n",
        "**Learning goals**\n",
        "- Reintroduce the **syntax** and core **patterns** for `while` and `for` loops.\n",
        "- Use loops with **decision structures** (`if/elif/else`) and **`try/except`** for input validation.\n",
        "- Write non-trivial programs that require **reasoning**, not just template filling.\n",
        "- Practice **PEP 8** style: naming, whitespace, docstrings, and helpful comments. - SO PLEASE DO PEP 8 ASSIGNMENT FIRST\n",
        "\n",
        "\n",
        "**IDE usage**\n",
        "- Feel free to work within an IDE (PyCharm or IDLE) if you feel more comfortable, copying and pasting the answers here"
      ]
    },
    {
      "cell_type": "markdown",
      "source": [],
      "metadata": {
        "id": "co4zaM_oHdBi"
      },
      "id": "co4zaM_oHdBi"
    },
    {
      "cell_type": "markdown",
      "id": "02124153",
      "metadata": {
        "id": "02124153"
      },
      "source": [
        "\n",
        "## Part 0 — Quick Reference (Read & Run)\n",
        "\n",
        "### `for` loop (iterate over a sequence)\n",
        "```python\n",
        "for item in iterable:\n",
        "    # do something with item\n",
        "```\n",
        "\n",
        "### `while` loop (repeat until a condition changes)\n",
        "```python\n",
        "while condition:\n",
        "    # body\n",
        "```\n",
        "\n",
        "### Useful keywords\n",
        "- `break` — exit the nearest loop immediately  \n",
        "- `continue` — skip to next iteration  \n",
        "- `else` on loops — runs if the loop **didn't** `break`\n"
      ]
    },
    {
      "cell_type": "markdown",
      "id": "884708c5",
      "metadata": {
        "id": "884708c5"
      },
      "source": [
        "\n",
        "## Demo 1 — `for` Loop Fundamentals\n",
        "- Iterating lists/strings\n",
        "- Using `range(start, stop, step)`\n",
        "- Tracking indices with `enumerate`\n"
      ]
    },
    {
      "cell_type": "code",
      "execution_count": 1,
      "id": "a9210b06",
      "metadata": {
        "id": "a9210b06",
        "colab": {
          "base_uri": "https://localhost:8080/"
        },
        "outputId": "3a43178a-d4f4-43c0-dfda-e0223de44ea6"
      },
      "outputs": [
        {
          "output_type": "stream",
          "name": "stdout",
          "text": [
            "KOL\n",
            "NIDRE\n",
            "TEFILAH\n",
            "---\n",
            "2 4 6 8 10 \n",
            "---\n",
            "0: kol\n",
            "1: nidre\n",
            "2: tefilah\n"
          ]
        }
      ],
      "source": [
        "\n",
        "words = [\"kol\", \"nidre\", \"tefilah\"]\n",
        "\n",
        "# Basic iteration\n",
        "for w in words:\n",
        "    print(w.upper())\n",
        "\n",
        "print(\"---\")\n",
        "\n",
        "# Ranges\n",
        "for k in range(2, 11, 2):\n",
        "    print(k, end=\" \")\n",
        "print(\"\\n---\")\n",
        "\n",
        "# Enumerate for index + value\n",
        "for i, w in enumerate(words):\n",
        "    print(f\"{i}: {w}\")\n"
      ]
    },
    {
      "cell_type": "markdown",
      "id": "872c060a",
      "metadata": {
        "id": "872c060a"
      },
      "source": [
        "\n",
        "## Demo 2 — `while` Loop Fundamentals\n",
        "- Sentinel loops (stop when user types `done`)\n",
        "- Guarded updates to prevent infinite loops\n"
      ]
    },
    {
      "cell_type": "code",
      "execution_count": 2,
      "id": "a16ab540",
      "metadata": {
        "id": "a16ab540",
        "colab": {
          "base_uri": "https://localhost:8080/"
        },
        "outputId": "91a88b7c-be6a-4343-a3c7-d73c15053a89"
      },
      "outputs": [
        {
          "output_type": "stream",
          "name": "stdout",
          "text": [
            "Enter a number (or 'done'): 5\n",
            "Enter a number (or 'done'): 17\n",
            "Enter a number (or 'done'): done\n",
            "Average: 11.0\n"
          ]
        }
      ],
      "source": [
        "\n",
        "# Sentinel-controlled input loop\n",
        "# Type numbers; type 'done' to stop. We sum only valid numbers.\n",
        "total = 0.0\n",
        "count = 0\n",
        "\n",
        "while True:\n",
        "    raw = input(\"Enter a number (or 'done'): \").strip().lower()\n",
        "    if raw == \"done\":\n",
        "        break\n",
        "    try:\n",
        "        num = float(raw)\n",
        "    except ValueError:\n",
        "        print(\"Not a number — try again.\")\n",
        "        continue\n",
        "    total += num\n",
        "    count += 1\n",
        "\n",
        "if count > 0:\n",
        "    print(\"Average:\", total / count)\n",
        "else:\n",
        "    print(\"No numbers entered.\")\n"
      ]
    },
    {
      "cell_type": "markdown",
      "id": "4f729477",
      "metadata": {
        "id": "4f729477"
      },
      "source": [
        "\n",
        "## Demo 3 — Try/Except + Decisions in Loops\n",
        "- Validate input in a loop\n",
        "- Use `if/elif/else` for branching behavior\n"
      ]
    },
    {
      "cell_type": "code",
      "execution_count": 31,
      "id": "ef5f1557",
      "metadata": {
        "id": "ef5f1557",
        "colab": {
          "base_uri": "https://localhost:8080/"
        },
        "outputId": "4b97498a-2c3e-49a4-f5e7-6169e8f42234"
      },
      "outputs": [
        {
          "output_type": "stream",
          "name": "stdout",
          "text": [
            "Pick an integer from 1 to 10: 56\n",
            "Out of range.\n",
            "Pick an integer from 1 to 10: 76\n",
            "Out of range.\n",
            "Pick an integer from 1 to 10: 45\n",
            "Out of range.\n",
            "No valid choice made. Exiting.\n"
          ]
        }
      ],
      "source": [
        "\n",
        "# Ask for an integer 1..10 with limited attempts.\n",
        "MAX_ATTEMPTS = 3\n",
        "attempts = 0\n",
        "value = None\n",
        "\n",
        "while attempts < MAX_ATTEMPTS:\n",
        "    try:\n",
        "        guess = int(input(\"Pick an integer from 1 to 10: \"))\n",
        "    except ValueError:\n",
        "        print(\"Please enter an integer.\")\n",
        "        attempts += 1\n",
        "        continue\n",
        "\n",
        "    if 1 <= guess <= 10:\n",
        "        value = guess\n",
        "        print(\"Thanks! You chose:\", value)\n",
        "        break\n",
        "    else:\n",
        "        print(\"Out of range.\")\n",
        "        attempts += 1\n",
        "\n",
        "if value is None:\n",
        "    print(\"No valid choice made. Exiting.\")\n"
      ]
    },
    {
      "cell_type": "markdown",
      "id": "4a3c313f",
      "metadata": {
        "id": "4a3c313f"
      },
      "source": [
        "\n",
        "## Patterns & Pitfalls\n",
        "- Prefer `for` for known collections/ranges; `while` for open-ended/state-driven loops.\n",
        "- Always **advance the loop state** in a `while` (avoid infinite loops).\n",
        "- Use **sentinels** like `'done'` to end user input.\n",
        "- Extract **helpers** with docstrings for single-purpose blocks.\n",
        "- Keep lines ≤ 79–99 characters and space around operators appropriately.\n"
      ]
    },
    {
      "cell_type": "markdown",
      "id": "05823ceb",
      "metadata": {
        "id": "05823ceb"
      },
      "source": [
        "\n",
        "## Program 1 — Running Statistics (Sentinel + Validation)\n",
        "\n",
        "**Write:** `stats_loop()` that repeatedly reads numbers from the user until they type `'done'`.  \n",
        "- Use `try/except` to validate input. Ignore invalid entries (warn and continue).  \n",
        "- Track **count, min, max, sum, average**.  \n",
        "- At the end, print a one-line summary like:  \n",
        "  `count=5 min=2.0 max=14.5 sum=33.0 avg=6.6`\n",
        "\n",
        "**Requirements:**\n",
        "- Use a **while loop** with a sentinel.\n",
        "- Use at least one **decision structure** (`if/elif/else`).\n",
        "- Follow **PEP 8** for naming, spacing, and comments.\n"
      ]
    },
    {
      "cell_type": "code",
      "execution_count": 44,
      "id": "bc2b0125",
      "metadata": {
        "id": "bc2b0125",
        "colab": {
          "base_uri": "https://localhost:8080/"
        },
        "outputId": "248cce51-66e2-4e80-844b-b5d03110a5ed"
      },
      "outputs": [
        {
          "output_type": "stream",
          "name": "stdout",
          "text": [
            "Please enter a number or 'done' to exit: 5\n",
            "Please enter a number or 'done' to exit: 10\n",
            "Please enter a number or 'done' to exit: 15\n",
            "Please enter a number or 'done' to exit: done\n",
            "count=3 min= 5.0 max= 15.0 sum= 30.0 avg= 10.0\n"
          ]
        }
      ],
      "source": [
        "# Your code here\n",
        "def stats_loop():\n",
        "    \"\"\"Asks the user for numbers. Loop runs until user enters the sentinel.\n",
        "    Prints the amount of numbers entered, the lowest number entered,\n",
        "    the highest number entered, the sum of all the numbers entered,\n",
        "    and the average of all the numbers entered.\n",
        "    \"\"\"\n",
        "    count = 0  # There are zero entries until the first valid number is given.\n",
        "    min = None  # Until a number is given, the min does not exist.\n",
        "    max = None  # Until a number is given, the max does not exist.\n",
        "    sum = 0.0  # The sum can be a decimal because the valid numbers are floats.\n",
        "\n",
        "    while True:\n",
        "        # Ask user for input, accept as a string.\n",
        "        raw = input(\"Please enter a number or 'done' to exit: \").strip().lower()\n",
        "        # Handle 'done' before transforming input into a float.\n",
        "        if raw == 'done':\n",
        "            break\n",
        "        # Other than 'done', only numbers are accepted and transformed into floats.\n",
        "        try:\n",
        "            num = float(raw)\n",
        "        except ValueError:\n",
        "            # Ignore invalid entries, warn and continue.\n",
        "            print(\"Invalid input. Please enter a valid number or 'done'.\")\n",
        "            continue\n",
        "\n",
        "        count += 1  # The count increases by one for each valid number entered.\n",
        "        sum += num  # The sum adds the new number to the previous sum.\n",
        "        avg = sum / count  # Sum of all numbers divided by the amount of numbers.\n",
        "        # First num takes the value of min/max until a lower num is entered.\n",
        "        if min == None or num < min:\n",
        "            min = num\n",
        "        if max == None or num > max:\n",
        "            max = num\n",
        "\n",
        "    # Outside the while loop so will only run when exit loop.\n",
        "    if count > 0:  # Will only run if a number was entered.\n",
        "        print(f\"count={count} min={min: .1f} max={max: .1f} sum={sum: .1f} avg={avg: .1f}\")\n",
        "    else:  # Won't run if no numbers were entered.\n",
        "        print(\"No numbers entered.\")\n",
        "\n",
        "stats_loop()\n"
      ]
    },
    {
      "cell_type": "code",
      "source": [
        "stats_loop()"
      ],
      "metadata": {
        "colab": {
          "base_uri": "https://localhost:8080/"
        },
        "id": "Fx0Bck-QOnpk",
        "outputId": "61b1ae34-77a0-405c-a877-9893bae7001c"
      },
      "id": "Fx0Bck-QOnpk",
      "execution_count": 45,
      "outputs": [
        {
          "output_type": "stream",
          "name": "stdout",
          "text": [
            "Please enter a number or 'done' to exit: 2\n",
            "Please enter a number or 'done' to exit: hello\n",
            "Invalid input. Please enter a valid number or 'done'.\n",
            "Please enter a number or 'done' to exit: 76\n",
            "Please enter a number or 'done' to exit:  Done\n",
            "count=2 min= 2.0 max= 76.0 sum= 78.0 avg= 39.0\n"
          ]
        }
      ]
    },
    {
      "cell_type": "markdown",
      "id": "cc1cb2cf",
      "metadata": {
        "id": "cc1cb2cf"
      },
      "source": [
        "\n",
        "## Program 2 — Password Attempts (Decisions + While)\n",
        "\n",
        "**Write:** `login_sim(correct_password: str, max_attempts: int = 3)`  \n",
        "- Prompt until the user enters the correct password or attempts are exhausted.  \n",
        "- Enforce a **policy**: at least 8 chars, contains a digit and a letter.  \n",
        "- Provide **specific feedback** for failures using `if/elif/else`.  \n",
        "- Use `try/except` only if you choose to add extra parsing; the main need here is decisions + while.\n",
        "\n",
        "**Tip:** Put the policy check in a **helper function** with a docstring.\n"
      ]
    },
    {
      "cell_type": "code",
      "execution_count": 41,
      "id": "cf5e5e3d",
      "metadata": {
        "id": "cf5e5e3d",
        "colab": {
          "base_uri": "https://localhost:8080/"
        },
        "outputId": "094cad9a-df00-44ce-9b53-b1f3202af2ac"
      },
      "outputs": [
        {
          "output_type": "stream",
          "name": "stdout",
          "text": [
            "Choose a password (at least 8 characters, contains a digit and a letter): kjhgfd\n",
            "Password must be at least 8 characters.\n",
            "Choose a password (at least 8 characters, contains a digit and a letter): j\n",
            "Password must be at least 8 characters.\n",
            "Choose a password (at least 8 characters, contains a digit and a letter): h\n",
            "Password must be at least 8 characters.\n",
            "No correct password. Maximum attempts reached. Exiting.\n"
          ]
        }
      ],
      "source": [
        "def policy_check(guess):\n",
        "    if len(guess) < 8:\n",
        "        print(\"Password must be at least 8 characters.\")\n",
        "        password_status = \"incorrect\"\n",
        "    elif not any(index.isdigit() for index in guess):\n",
        "        print(\"Password must contain a digit.\")\n",
        "        password_status = \"incorrect\"\n",
        "    elif not any(index.isalpha() for index in guess):\n",
        "        print(\"Password must contain a letter.\")\n",
        "        password_status = \"incorrect\"\n",
        "    else:\n",
        "        password_status = \"correct\"\n",
        "    return password_status\n",
        "\n",
        "\n",
        "def login_sim(max_attempts: int = 3):\n",
        "    attempts = 0\n",
        "\n",
        "    while attempts < max_attempts:\n",
        "        guess = input(\"Choose a password (at least 8 characters, contains a digit and a letter): \")\n",
        "        password_status = policy_check(guess)\n",
        "        if password_status == \"incorrect\":\n",
        "            attempts += 1\n",
        "            continue\n",
        "        elif password_status == \"correct\":\n",
        "            print(f\"Correct password: {guess}\")\n",
        "            break\n",
        "\n",
        "    if password_status == \"incorrect\":\n",
        "        print(\"No correct password. Maximum attempts reached. Exiting.\")\n",
        "\n",
        "login_sim()\n"
      ]
    },
    {
      "cell_type": "markdown",
      "id": "9efbc851",
      "metadata": {
        "id": "9efbc851"
      },
      "source": [
        "\n",
        "## Program 3 — Collatz Analyzer (While + Decisions)\n",
        "\n",
        "**Write:** `collatz_steps(n: int) -> int` that returns the number of steps to reach 1 using the Collatz rules:  \n",
        "- If `n` is even, `n = n // 2`  \n",
        "- Else `n = 3*n + 1`\n",
        "\n",
        "**Then write:** `collatz_report(start: int, stop: int)` that prints the number between `start` and `stop` (inclusive) with the **maximum** steps and the step count.\n",
        "\n",
        "** Note there are two aspects of this question which are tricky.\n",
        "- [ ] the for loop in `collatz_report` is written `for num in (start, stop)`\n",
        "- [ ] you are calling `collatz_steps` from within `collatz_report` and it is this loop that keeps track of where the ** maximum ** steps and step count are found. So `collatz_steps` is **not** called from the main program\n",
        "\n",
        "**Requirements:**\n",
        "- Input validation with `try/except` in a wrapper `main()` that reads `start` and `stop` from the user.\n",
        "- Use a **for** loop in `collatz_report`; use a **while** loop in `collatz_steps`.\n",
        "- Use decisions appropriately.\n"
      ]
    },
    {
      "cell_type": "code",
      "execution_count": 50,
      "id": "6e7a622e",
      "metadata": {
        "id": "6e7a622e",
        "colab": {
          "base_uri": "https://localhost:8080/"
        },
        "outputId": "9ec45ab2-c993-4a04-a5be-6014aa0883cf"
      },
      "outputs": [
        {
          "output_type": "stream",
          "name": "stdout",
          "text": [
            "5 steps were taken for n to equal 1.\n"
          ]
        }
      ],
      "source": [
        "# your code here\n",
        "def collatz_steps(n: int) -> int:\n",
        "    count = 0\n",
        "\n",
        "    while n != 1:\n",
        "        if n % 2 == 0:\n",
        "            n = n // 2\n",
        "        else:\n",
        "            n = 3 * n + 1\n",
        "        count += 1\n",
        "\n",
        "    if n == 1:\n",
        "        print(f\"{count} steps were taken for n to equal 1.\")\n",
        "\n",
        "\n",
        "def collatz_report(start: int, stop: int):\n",
        ""
      ]
    },
    {
      "cell_type": "markdown",
      "id": "c2ec00e1",
      "metadata": {
        "id": "c2ec00e1"
      },
      "source": [
        "\n",
        "## Program 4 — Grid Count (Nested Loops + Decisions)\n",
        "\n",
        "** this exercise we will skip as it is a nested loop structure, we will learn this next class - so you receive free points here."
      ]
    },
    {
      "cell_type": "code",
      "execution_count": null,
      "id": "daf5f519",
      "metadata": {
        "id": "daf5f519"
      },
      "outputs": [],
      "source": [
        "# your code here"
      ]
    },
    {
      "cell_type": "markdown",
      "id": "ecba85ff",
      "metadata": {
        "id": "ecba85ff"
      },
      "source": [
        "\n",
        "## Program 5 — Receipt Parser (While + Try/Except + Decisions)\n",
        "\n",
        "**Write:** `receipt_total()` that repeatedly reads lines like `item,quantity,price` until the user types `'done'`.  \n",
        "- Validate that `quantity` is an integer and `price` is a float.  \n",
        "- Accumulate a subtotal and print a formatted receipt at the end.  \n",
        "- Ignore malformed lines (warn and continue).\n",
        "\n",
        "**Example input:**\n",
        "```\n",
        "apple,2,1.25\n",
        "banana,3,0.60\n",
        "done\n",
        "```\n",
        "**Output end line:**\n",
        "```\n",
        "Items: 2  Units: 5  Subtotal: $3.65\n",
        "```\n"
      ]
    },
    {
      "cell_type": "code",
      "execution_count": 66,
      "id": "a2880a4b",
      "metadata": {
        "id": "a2880a4b",
        "colab": {
          "base_uri": "https://localhost:8080/"
        },
        "outputId": "28af8795-6ec2-4d5e-d708-f9597a6865c7"
      },
      "outputs": [
        {
          "output_type": "stream",
          "name": "stdout",
          "text": [
            "Please provide the item,quantity,price in this form or 'done' to exit:banas,3,4\n",
            "Please provide the item,quantity,price in this form or 'done' to exit:done\n",
            "Items: 1 Units: 3 Subtotal: $4.00\n"
          ]
        }
      ],
      "source": [
        "# your code here\n",
        "def receipt_total():\n",
        "    total_items = 0\n",
        "    units = 0\n",
        "    subtotal = 0.0\n",
        "\n",
        "    while True:\n",
        "        purchased = input(\"Please provide the item,quantity,price in this form or 'done' to exit:\")\n",
        "        if purchased == \"done\":\n",
        "            break\n",
        "        item, quantity, price = purchased.split(\",\")\n",
        "        total_items += 1\n",
        "        units += int(quantity)\n",
        "        subtotal += float(price)\n",
        "\n",
        "    print(f\"Items: {total_items} Units: {units} Subtotal: ${subtotal:.2f}\")\n",
        "\n",
        "receipt_total()"
      ]
    },
    {
      "cell_type": "markdown",
      "id": "96844e4c",
      "metadata": {
        "id": "96844e4c"
      },
      "source": [
        "\n",
        "## Optional Challenge — Prime Gaps (For + Decisions)\n",
        "\n",
        "Write `is_prime(n: int) -> bool` and then `max_gap(a: int, b: int) -> tuple[int,int,int]` that returns `(p, q, gap)` where `p` and `q` are consecutive primes in `[a, b]` with the **largest** gap.\n",
        "\n",
        "- Use **for** loops and decisions; keep it simple and readable.\n"
      ]
    },
    {
      "cell_type": "markdown",
      "id": "4eddd5e9",
      "metadata": {
        "id": "4eddd5e9"
      },
      "source": [
        "\n",
        "## Submission Checklist\n",
        "- [ ] I used `while` and/or `for` appropriately for each task.\n",
        "- [ ] I validated user input with `try/except` where required.\n",
        "- [ ] I used clear names, docstrings, and helpful comments.\n",
        "- [ ] I kept lines ≤ 79–99 chars and used proper whitespace.\n",
        "- [ ] ***  I have removed the reference to asserts as we have not learned this yet\n"
      ]
    },
    {
      "cell_type": "markdown",
      "id": "96a91da6",
      "metadata": {
        "id": "96a91da6"
      },
      "source": [
        "\n",
        "## Grading Rubric (25 pts)\n",
        "\n",
        "| Criterion | Points |\n",
        "|---|---:|\n",
        "| Program 1 — Stats loop (correctness + validation + clarity) | 6 |\n",
        "| Program 2 — Password attempts (logic + decisions + clarity) | 5 |\n",
        "| Program 3 — Collatz analyzer (while + for + validation) | 6 |\n",
        "| Program 5 — Grid count (nested loops + tests) | 5 |\n",
        "| Overall PEP 8 style & explanations | 3 |\n"
      ]
    }
  ],
  "metadata": {
    "colab": {
      "provenance": [],
      "include_colab_link": true
    },
    "language_info": {
      "name": "python"
    },
    "kernelspec": {
      "name": "python3",
      "display_name": "Python 3"
    }
  },
  "nbformat": 4,
  "nbformat_minor": 5
}