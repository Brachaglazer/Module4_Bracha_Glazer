{
  "cells": [
    {
      "cell_type": "markdown",
      "metadata": {
        "id": "view-in-github",
        "colab_type": "text"
      },
      "source": [
        "<a href=\"https://colab.research.google.com/github/Brachaglazer/Module4_Bracha_Glazer/blob/main/Loops_While_For_Questions.ipynb\" target=\"_parent\"><img src=\"https://colab.research.google.com/assets/colab-badge.svg\" alt=\"Open In Colab\"/></a>"
      ]
    },
    {
      "cell_type": "markdown",
      "id": "7d25b115",
      "metadata": {
        "id": "7d25b115"
      },
      "source": [
        "\n",
        "# While & For Mastery — Syntax, Patterns, and Programs\n",
        "\n",
        "**Name:** _Your Name_  \n",
        "**Course:** _Programming I_  \n",
        "**Date:** _YYYY-MM-DD_\n",
        "\n",
        "**Learning goals**\n",
        "- Reintroduce the **syntax** and core **patterns** for `while` and `for` loops.\n",
        "- Use loops with **decision structures** (`if/elif/else`) and **`try/except`** for input validation.\n",
        "- Write non-trivial programs that require **reasoning**, not just template filling.\n",
        "- Practice **PEP 8** style: naming, whitespace, docstrings, and helpful comments. - SO PLEASE DO PEP 8 ASSIGNMENT FIRST\n",
        "\n",
        "\n",
        "**IDE usage**\n",
        "- Feel free to work within an IDE (PyCharm or IDLE) if you feel more comfortable, copying and pasting the answers here"
      ]
    },
    {
      "cell_type": "markdown",
      "source": [],
      "metadata": {
        "id": "co4zaM_oHdBi"
      },
      "id": "co4zaM_oHdBi"
    },
    {
      "cell_type": "markdown",
      "id": "02124153",
      "metadata": {
        "id": "02124153"
      },
      "source": [
        "\n",
        "## Part 0 — Quick Reference (Read & Run)\n",
        "\n",
        "### `for` loop (iterate over a sequence)\n",
        "```python\n",
        "for item in iterable:\n",
        "    # do something with item\n",
        "```\n",
        "\n",
        "### `while` loop (repeat until a condition changes)\n",
        "```python\n",
        "while condition:\n",
        "    # body\n",
        "```\n",
        "\n",
        "### Useful keywords\n",
        "- `break` — exit the nearest loop immediately  \n",
        "- `continue` — skip to next iteration  \n",
        "- `else` on loops — runs if the loop **didn't** `break`\n"
      ]
    },
    {
      "cell_type": "markdown",
      "id": "884708c5",
      "metadata": {
        "id": "884708c5"
      },
      "source": [
        "\n",
        "## Demo 1 — `for` Loop Fundamentals\n",
        "- Iterating lists/strings\n",
        "- Using `range(start, stop, step)`\n",
        "- Tracking indices with `enumerate`\n"
      ]
    },
    {
      "cell_type": "code",
      "execution_count": 1,
      "id": "a9210b06",
      "metadata": {
        "id": "a9210b06",
        "colab": {
          "base_uri": "https://localhost:8080/"
        },
        "outputId": "3a43178a-d4f4-43c0-dfda-e0223de44ea6"
      },
      "outputs": [
        {
          "output_type": "stream",
          "name": "stdout",
          "text": [
            "KOL\n",
            "NIDRE\n",
            "TEFILAH\n",
            "---\n",
            "2 4 6 8 10 \n",
            "---\n",
            "0: kol\n",
            "1: nidre\n",
            "2: tefilah\n"
          ]
        }
      ],
      "source": [
        "\n",
        "words = [\"kol\", \"nidre\", \"tefilah\"]\n",
        "\n",
        "# Basic iteration\n",
        "for w in words:\n",
        "    print(w.upper())\n",
        "\n",
        "print(\"---\")\n",
        "\n",
        "# Ranges\n",
        "for k in range(2, 11, 2):\n",
        "    print(k, end=\" \")\n",
        "print(\"\\n---\")\n",
        "\n",
        "# Enumerate for index + value\n",
        "for i, w in enumerate(words):\n",
        "    print(f\"{i}: {w}\")\n"
      ]
    },
    {
      "cell_type": "markdown",
      "id": "872c060a",
      "metadata": {
        "id": "872c060a"
      },
      "source": [
        "\n",
        "## Demo 2 — `while` Loop Fundamentals\n",
        "- Sentinel loops (stop when user types `done`)\n",
        "- Guarded updates to prevent infinite loops\n"
      ]
    },
    {
      "cell_type": "code",
      "execution_count": 2,
      "id": "a16ab540",
      "metadata": {
        "id": "a16ab540",
        "colab": {
          "base_uri": "https://localhost:8080/"
        },
        "outputId": "91a88b7c-be6a-4343-a3c7-d73c15053a89"
      },
      "outputs": [
        {
          "output_type": "stream",
          "name": "stdout",
          "text": [
            "Enter a number (or 'done'): 5\n",
            "Enter a number (or 'done'): 17\n",
            "Enter a number (or 'done'): done\n",
            "Average: 11.0\n"
          ]
        }
      ],
      "source": [
        "\n",
        "# Sentinel-controlled input loop\n",
        "# Type numbers; type 'done' to stop. We sum only valid numbers.\n",
        "total = 0.0\n",
        "count = 0\n",
        "\n",
        "while True:\n",
        "    raw = input(\"Enter a number (or 'done'): \").strip().lower()\n",
        "    if raw == \"done\":\n",
        "        break\n",
        "    try:\n",
        "        num = float(raw)\n",
        "    except ValueError:\n",
        "        print(\"Not a number — try again.\")\n",
        "        continue\n",
        "    total += num\n",
        "    count += 1\n",
        "\n",
        "if count > 0:\n",
        "    print(\"Average:\", total / count)\n",
        "else:\n",
        "    print(\"No numbers entered.\")\n"
      ]
    },
    {
      "cell_type": "markdown",
      "id": "4f729477",
      "metadata": {
        "id": "4f729477"
      },
      "source": [
        "\n",
        "## Demo 3 — Try/Except + Decisions in Loops\n",
        "- Validate input in a loop\n",
        "- Use `if/elif/else` for branching behavior\n"
      ]
    },
    {
      "cell_type": "code",
      "execution_count": 31,
      "id": "ef5f1557",
      "metadata": {
        "id": "ef5f1557",
        "colab": {
          "base_uri": "https://localhost:8080/"
        },
        "outputId": "4b97498a-2c3e-49a4-f5e7-6169e8f42234"
      },
      "outputs": [
        {
          "output_type": "stream",
          "name": "stdout",
          "text": [
            "Pick an integer from 1 to 10: 56\n",
            "Out of range.\n",
            "Pick an integer from 1 to 10: 76\n",
            "Out of range.\n",
            "Pick an integer from 1 to 10: 45\n",
            "Out of range.\n",
            "No valid choice made. Exiting.\n"
          ]
        }
      ],
      "source": [
        "\n",
        "# Ask for an integer 1..10 with limited attempts.\n",
        "MAX_ATTEMPTS = 3\n",
        "attempts = 0\n",
        "value = None\n",
        "\n",
        "while attempts < MAX_ATTEMPTS:\n",
        "    try:\n",
        "        guess = int(input(\"Pick an integer from 1 to 10: \"))\n",
        "    except ValueError:\n",
        "        print(\"Please enter an integer.\")\n",
        "        attempts += 1\n",
        "        continue\n",
        "\n",
        "    if 1 <= guess <= 10:\n",
        "        value = guess\n",
        "        print(\"Thanks! You chose:\", value)\n",
        "        break\n",
        "    else:\n",
        "        print(\"Out of range.\")\n",
        "        attempts += 1\n",
        "\n",
        "if value is None:\n",
        "    print(\"No valid choice made. Exiting.\")\n"
      ]
    },
    {
      "cell_type": "markdown",
      "id": "4a3c313f",
      "metadata": {
        "id": "4a3c313f"
      },
      "source": [
        "\n",
        "## Patterns & Pitfalls\n",
        "- Prefer `for` for known collections/ranges; `while` for open-ended/state-driven loops.\n",
        "- Always **advance the loop state** in a `while` (avoid infinite loops).\n",
        "- Use **sentinels** like `'done'` to end user input.\n",
        "- Extract **helpers** with docstrings for single-purpose blocks.\n",
        "- Keep lines ≤ 79–99 characters and space around operators appropriately.\n"
      ]
    },
    {
      "cell_type": "markdown",
      "id": "05823ceb",
      "metadata": {
        "id": "05823ceb"
      },
      "source": [
        "\n",
        "## Program 1 — Running Statistics (Sentinel + Validation)\n",
        "\n",
        "**Write:** `stats_loop()` that repeatedly reads numbers from the user until they type `'done'`.  \n",
        "- Use `try/except` to validate input. Ignore invalid entries (warn and continue).  \n",
        "- Track **count, min, max, sum, average**.  \n",
        "- At the end, print a one-line summary like:  \n",
        "  `count=5 min=2.0 max=14.5 sum=33.0 avg=6.6`\n",
        "\n",
        "**Requirements:**\n",
        "- Use a **while loop** with a sentinel.\n",
        "- Use at least one **decision structure** (`if/elif/else`).\n",
        "- Follow **PEP 8** for naming, spacing, and comments.\n"
      ]
    },
    {
      "cell_type": "code",
      "execution_count": 44,
      "id": "bc2b0125",
      "metadata": {
        "id": "bc2b0125",
        "colab": {
          "base_uri": "https://localhost:8080/"
        },
        "outputId": "248cce51-66e2-4e80-844b-b5d03110a5ed"
      },
      "outputs": [
        {
          "output_type": "stream",
          "name": "stdout",
          "text": [
            "Please enter a number or 'done' to exit: 5\n",
            "Please enter a number or 'done' to exit: 10\n",
            "Please enter a number or 'done' to exit: 15\n",
            "Please enter a number or 'done' to exit: done\n",
            "count=3 min= 5.0 max= 15.0 sum= 30.0 avg= 10.0\n"
          ]
        }
      ],
      "source": [
        "# Your code here\n",
        "def stats_loop():\n",
        "    \"\"\"Asks the user for numbers. Loop runs until user enters the sentinel.\n",
        "    Prints the amount of numbers entered, the lowest number entered,\n",
        "    the highest number entered, the sum of all the numbers entered,\n",
        "    and the average of all the numbers entered.\n",
        "    \"\"\"\n",
        "    count = 0  # There are zero entries until the first valid number is given.\n",
        "    min = None  # Until a number is given, the min does not exist.\n",
        "    max = None  # Until a number is given, the max does not exist.\n",
        "    sum = 0.0  # The sum can be a decimal because the valid numbers are floats.\n",
        "\n",
        "    while True:\n",
        "        # Ask user for input, accept as a string.\n",
        "        raw = input(\"Please enter a number or 'done' to exit: \").strip().lower()\n",
        "        # Handle 'done' before transforming input into a float.\n",
        "        if raw == 'done':\n",
        "            break\n",
        "        # Other than 'done', only numbers are accepted and transformed into floats.\n",
        "        try:\n",
        "            num = float(raw)\n",
        "        except ValueError:\n",
        "            # Ignore invalid entries, warn and continue.\n",
        "            print(\"Invalid input. Please enter a valid number or 'done'.\")\n",
        "            continue\n",
        "\n",
        "        count += 1  # The count increases by one for each valid number entered.\n",
        "        sum += num  # The sum adds the new number to the previous sum.\n",
        "        avg = sum / count  # Sum of all numbers divided by the amount of numbers.\n",
        "        # First num takes the value of min/max until a lower num is entered.\n",
        "        if min == None or num < min:\n",
        "            min = num\n",
        "        if max == None or num > max:\n",
        "            max = num\n",
        "\n",
        "    # Outside the while loop so will only run when exit loop.\n",
        "    if count > 0:  # Will only run if a number was entered.\n",
        "        print(f\"count={count} min={min: .1f} max={max: .1f} sum={sum: .1f} avg={avg: .1f}\")\n",
        "    else:  # Won't run if no numbers were entered.\n",
        "        print(\"No numbers entered.\")\n",
        "\n",
        "stats_loop()\n"
      ]
    },
    {
      "cell_type": "code",
      "source": [
        "stats_loop()"
      ],
      "metadata": {
        "colab": {
          "base_uri": "https://localhost:8080/"
        },
        "id": "Fx0Bck-QOnpk",
        "outputId": "61b1ae34-77a0-405c-a877-9893bae7001c"
      },
      "id": "Fx0Bck-QOnpk",
      "execution_count": 45,
      "outputs": [
        {
          "output_type": "stream",
          "name": "stdout",
          "text": [
            "Please enter a number or 'done' to exit: 2\n",
            "Please enter a number or 'done' to exit: hello\n",
            "Invalid input. Please enter a valid number or 'done'.\n",
            "Please enter a number or 'done' to exit: 76\n",
            "Please enter a number or 'done' to exit:  Done\n",
            "count=2 min= 2.0 max= 76.0 sum= 78.0 avg= 39.0\n"
          ]
        }
      ]
    },
    {
      "cell_type": "markdown",
      "id": "cc1cb2cf",
      "metadata": {
        "id": "cc1cb2cf"
      },
      "source": [
        "\n",
        "## Program 2 — Password Attempts (Decisions + While)\n",
        "\n",
        "**Write:** `login_sim(correct_password: str, max_attempts: int = 3)`  \n",
        "- Prompt until the user enters the correct password or attempts are exhausted.  \n",
        "- Enforce a **policy**: at least 8 chars, contains a digit and a letter.  \n",
        "- Provide **specific feedback** for failures using `if/elif/else`.  \n",
        "- Use `try/except` only if you choose to add extra parsing; the main need here is decisions + while.\n",
        "\n",
        "**Tip:** Put the policy check in a **helper function** with a docstring.\n"
      ]
    },
    {
      "cell_type": "code",
      "execution_count": 83,
      "id": "cf5e5e3d",
      "metadata": {
        "id": "cf5e5e3d",
        "colab": {
          "base_uri": "https://localhost:8080/"
        },
        "outputId": "6142b959-bd72-425b-9cba-d65d3ff80dd2"
      },
      "outputs": [
        {
          "output_type": "stream",
          "name": "stdout",
          "text": [
            "Guess the password (at least 8 characters, contains a digit and a letter): helloworld123\n",
            "Correct password!\n"
          ]
        }
      ],
      "source": [
        "def policy_check(guess):\n",
        "    \"\"\"Checks if the user input is in line with the password policies.\n",
        "    Args:\n",
        "    guess: user input, guess for the password\n",
        "    Return:\n",
        "    guess_status = str: if the user input follows policy or not\n",
        "    Notes:\n",
        "    If user input is not according to policy, a print statement notifies the user.\n",
        "    \"\"\"\n",
        "    if len(guess) < 8:  # User input must be at least 8 characters.\n",
        "        print(\"Password must be at least 8 characters.\")\n",
        "        guess_status = \"invalid\"\n",
        "    elif not any(index.isdigit() for index in guess):  # Must contain a digit.\n",
        "        print(\"Password must contain a digit.\")\n",
        "        guess_status = \"invalid\"\n",
        "    elif not any(index.isalpha() for index in guess):  # Must contain a letter.\n",
        "        print(\"Password must contain a letter.\")\n",
        "        guess_status = \"invalid\"\n",
        "    else:  # Else user input is according to policy.\n",
        "        guess_status = \"valid\"\n",
        "    return guess_status  # If user input is according to policy or not.\n",
        "\n",
        "\n",
        "def login_sim(correct_password: str = \"helloworld123\", max_attempts: int = 3):\n",
        "    \"\"\"Prompts user for password, 3 attempts (inline with policies) to guess password\n",
        "    correctly.\n",
        "    Args:\n",
        "    correct_password: str =: the correct password\n",
        "    max_attempts: int =: the max attempts allowed\n",
        "    Notes:\n",
        "    If an incorrect guess is entered, the function calls on the policy_check\n",
        "    function to check if it follows the policies. The loop runs until the\n",
        "    password is guesses correctly or the attemps are used.\n",
        "    \"\"\"\n",
        "    attempts = 0  # There are zero attempts until the first valid guess.\n",
        "\n",
        "    while attempts < max_attempts:  # Loop runs until attempts are used, or break.\n",
        "        # User input accepted as a string to compare to the correct_password = str.\n",
        "        guess = input(\"Guess the password (at least 8 characters, contains a digit and a letter): \")\n",
        "        # If the correct password is entered, the function prints and exists the loop.\n",
        "        if guess == correct_password:\n",
        "            print(\"Correct password!\")\n",
        "            break\n",
        "        # Else the guess is check for policies and user is promted again.\n",
        "        else:\n",
        "            guess_status = policy_check(guess)\n",
        "            if guess_status == \"invalid\":\n",
        "                continue\n",
        "            elif guess_status == \"valid\":\n",
        "                attempts += 1  # Attempt used only if guess was in line with policies.\n",
        "                continue\n",
        "\n",
        "    # If maximum attempts reached and correct password not entered, print and function ends.\n",
        "    if guess != correct_password:\n",
        "        print(\"No correct password. Maximum attempts reached. Exiting.\")\n",
        "\n",
        "login_sim()\n"
      ]
    },
    {
      "cell_type": "code",
      "source": [
        "login_sim()"
      ],
      "metadata": {
        "colab": {
          "base_uri": "https://localhost:8080/"
        },
        "id": "BxmeNLATwCI1",
        "outputId": "6cce104a-6310-47e0-ee15-26621daaae76"
      },
      "id": "BxmeNLATwCI1",
      "execution_count": 85,
      "outputs": [
        {
          "output_type": "stream",
          "name": "stdout",
          "text": [
            "Guess the password (at least 8 characters, contains a digit and a letter): hellohi123\n",
            "Guess the password (at least 8 characters, contains a digit and a letter): helliworld12\n",
            "Guess the password (at least 8 characters, contains a digit and a letter): hihello1234\n",
            "No correct password. Maximum attempts reached. Exiting.\n"
          ]
        }
      ]
    },
    {
      "cell_type": "markdown",
      "id": "9efbc851",
      "metadata": {
        "id": "9efbc851"
      },
      "source": [
        "\n",
        "## Program 3 — Collatz Analyzer (While + Decisions)\n",
        "\n",
        "**Write:** `collatz_steps(n: int) -> int` that returns the number of steps to reach 1 using the Collatz rules:  \n",
        "- If `n` is even, `n = n // 2`  \n",
        "- Else `n = 3*n + 1`\n",
        "\n",
        "**Then write:** `collatz_report(start: int, stop: int)` that prints the number between `start` and `stop` (inclusive) with the **maximum** steps and the step count.\n",
        "\n",
        "** Note there are two aspects of this question which are tricky.\n",
        "- [ ] the for loop in `collatz_report` is written `for num in (start, stop)`\n",
        "- [ ] you are calling `collatz_steps` from within `collatz_report` and it is this loop that keeps track of where the ** maximum ** steps and step count are found. So `collatz_steps` is **not** called from the main program\n",
        "\n",
        "**Requirements:**\n",
        "- Input validation with `try/except` in a wrapper `main()` that reads `start` and `stop` from the user.\n",
        "- Use a **for** loop in `collatz_report`; use a **while** loop in `collatz_steps`.\n",
        "- Use decisions appropriately.\n"
      ]
    },
    {
      "cell_type": "code",
      "execution_count": 125,
      "id": "6e7a622e",
      "metadata": {
        "id": "6e7a622e",
        "colab": {
          "base_uri": "https://localhost:8080/"
        },
        "outputId": "0229093a-9fec-4586-caa1-3ee2d2c6ddb4"
      },
      "outputs": [
        {
          "output_type": "stream",
          "name": "stdout",
          "text": [
            "Please provide a start number: 5\n",
            "Please provide a stop number: 6\n",
            "Number with maximum steps: 6 Step count: 8\n"
          ]
        }
      ],
      "source": [
        "# your code here\n",
        "def collatz_steps(n: int) -> int:\n",
        "    \"\"\"Counts how many steps taken for a specifec number to reach 1 using the collatz rules.\n",
        "    Args:\n",
        "    n: int: provide an integer\n",
        "    Returns:\n",
        "    Returns the amount of steps taken to reach 1.\n",
        "    Notes:\n",
        "    A while loop is used to calculate the number until it reaches 1.\n",
        "    Even number: n = n // 2\n",
        "    Odd number: n = 3 * n + 1\n",
        "    \"\"\"\n",
        "    count = 0  # Zero steps are taken until the loop begins running.\n",
        "\n",
        "    while n != 1:  # Loop runs on condition that the number does not equal 1.\n",
        "        if n % 2 == 0:  # If the number divides by 2 without a remainder it is even.\n",
        "            n = n // 2  # The number becomes itself divided by 2\n",
        "        else:  # If the number is not even, then the number is odd.\n",
        "            n = 3 * n + 1  # The number is multiplied by 3 and added one.\n",
        "        count += 1  # The count increases by one each time the loop runs.\n",
        "\n",
        "    if n == 1:  # Outside the loop, only runs when exit loop.\n",
        "        return count\n",
        "\n",
        "\n",
        "def main():\n",
        "    try:\n",
        "        start = int(input(\"Please provide a start number: \"))\n",
        "        stop = int(input(\"Please provide a stop number: \"))\n",
        "    except ValueError:\n",
        "        print(\"Invalid input.\")\n",
        "\n",
        "    return start, stop\n",
        "\n",
        "\n",
        "def collatz_report(start: int, stop: int):\n",
        "    max_num = None\n",
        "    max_steps = None\n",
        "    for num in range(start, stop + 1):\n",
        "        count = collatz_steps(num)\n",
        "        if max == None or max_steps == None or count > max_steps:\n",
        "            max_num = num\n",
        "            max_steps = count\n",
        "    print(f\"Number with maximum steps: {max_num} Step count: {max_steps}\")\n",
        "\n",
        "if __name__ == \"__main__\":\n",
        "    start, stop = main()\n",
        "    collatz_report(start,stop)"
      ]
    },
    {
      "cell_type": "markdown",
      "id": "c2ec00e1",
      "metadata": {
        "id": "c2ec00e1"
      },
      "source": [
        "\n",
        "## Program 4 — Grid Count (Nested Loops + Decisions)\n",
        "\n",
        "** this exercise we will skip as it is a nested loop structure, we will learn this next class - so you receive free points here."
      ]
    },
    {
      "cell_type": "code",
      "execution_count": null,
      "id": "daf5f519",
      "metadata": {
        "id": "daf5f519"
      },
      "outputs": [],
      "source": [
        "# your code here"
      ]
    },
    {
      "cell_type": "markdown",
      "id": "ecba85ff",
      "metadata": {
        "id": "ecba85ff"
      },
      "source": [
        "\n",
        "## Program 5 — Receipt Parser (While + Try/Except + Decisions)\n",
        "\n",
        "**Write:** `receipt_total()` that repeatedly reads lines like `item,quantity,price` until the user types `'done'`.  \n",
        "- Validate that `quantity` is an integer and `price` is a float.  \n",
        "- Accumulate a subtotal and print a formatted receipt at the end.  \n",
        "- Ignore malformed lines (warn and continue).\n",
        "\n",
        "**Example input:**\n",
        "```\n",
        "apple,2,1.25\n",
        "banana,3,0.60\n",
        "done\n",
        "```\n",
        "**Output end line:**\n",
        "```\n",
        "Items: 2  Units: 5  Subtotal: $3.65\n",
        "```\n"
      ]
    },
    {
      "cell_type": "code",
      "execution_count": 72,
      "id": "a2880a4b",
      "metadata": {
        "id": "a2880a4b",
        "colab": {
          "base_uri": "https://localhost:8080/"
        },
        "outputId": "b6cb2c10-37da-45ff-b066-d2e750574a67"
      },
      "outputs": [
        {
          "output_type": "stream",
          "name": "stdout",
          "text": [
            "Please provide the item,quantity,price in this form or 'done' to exit: bananas,2,2.5\n",
            "Please provide the item,quantity,price in this form or 'done' to exit: apples,5,1\n",
            "Please provide the item,quantity,price in this form or 'done' to exit: peaches,6,1.5\n",
            "Please provide the item,quantity,price in this form or 'done' to exit: DONE\n",
            "Items: 3 Units: 13 Subtotal: $19.00\n"
          ]
        }
      ],
      "source": [
        "def receipt_total():\n",
        "    \"\"\"Asks user for item, quantity, and price per item until sentinel used.\n",
        "    Returns:\n",
        "    Returns the total amount of items, the total amount of units, and the subtotal price.\n",
        "    Notes:\n",
        "    Accepts the input as one string and splits in into three.\n",
        "    Quantity is only accepted as an integer and price is only accepted as a float.\n",
        "    Errors are ignored, user is warned and the program continues.\n",
        "    \"\"\"\n",
        "    total_items = 0  # The total items is 0 until the first valid entry.\n",
        "    units = 0  # There are no units until the first valid entry.\n",
        "    subtotal = 0.0  # The subtotal is 0 until the first valid entry.\n",
        "\n",
        "    while True:\n",
        "        # Ask user for input, accept as a string.\n",
        "        purchased = input(\"Please provide the item,quantity,price in this form or 'done' to exit: \")\n",
        "        # Handle 'done' before transforming input into a float.\n",
        "        if purchased.strip().lower() == \"done\":  # Remove spaces and uppercase.\n",
        "            break\n",
        "        try:\n",
        "            # User input is divided into three by the commas. Variables are assigned to each.\n",
        "            item, quantity, price = purchased.split(\",\")\n",
        "            total_items += 1  # Total amount of items increases by one for each valid entry.\n",
        "            units += int(quantity)  # quantity as an integer gets added to the units.\n",
        "            subtotal += int(quantity) * float(price)  # Total price for item is added to subtotal.\n",
        "        except ValueError:\n",
        "            # Ignore invalid entries, warn and continue.\n",
        "            print(\"Invalid input. Please enter item, quantity, price or 'done'.\")\n",
        "            continue\n",
        "\n",
        "    # Outside the while loop so will only run when exit loop.\n",
        "    print(f\"Items: {total_items} Units: {units} Subtotal: ${subtotal:.2f}\")\n",
        "\n",
        "receipt_total()"
      ]
    },
    {
      "cell_type": "code",
      "source": [
        "receipt_total()"
      ],
      "metadata": {
        "colab": {
          "base_uri": "https://localhost:8080/"
        },
        "id": "n9bK8TvUf2SP",
        "outputId": "c9d653ed-c45e-4395-f5a7-6297125d63e1"
      },
      "id": "n9bK8TvUf2SP",
      "execution_count": 74,
      "outputs": [
        {
          "output_type": "stream",
          "name": "stdout",
          "text": [
            "Please provide the item,quantity,price in this form or 'done' to exit: bananas,2.5\n",
            "Invalid input. Please enter item, quantity, price or 'done'.\n",
            "Please provide the item,quantity,price in this form or 'done' to exit: apples.8,7.5\n",
            "Invalid input. Please enter item, quantity, price or 'done'.\n",
            "Please provide the item,quantity,price in this form or 'done' to exit: hello\n",
            "Invalid input. Please enter item, quantity, price or 'done'.\n",
            "Please provide the item,quantity,price in this form or 'done' to exit:   done\n",
            "Items: 0 Units: 0 Subtotal: $0.00\n"
          ]
        }
      ]
    },
    {
      "cell_type": "markdown",
      "id": "96844e4c",
      "metadata": {
        "id": "96844e4c"
      },
      "source": [
        "\n",
        "## Optional Challenge — Prime Gaps (For + Decisions)\n",
        "\n",
        "Write `is_prime(n: int) -> bool` and then `max_gap(a: int, b: int) -> tuple[int,int,int]` that returns `(p, q, gap)` where `p` and `q` are consecutive primes in `[a, b]` with the **largest** gap.\n",
        "\n",
        "- Use **for** loops and decisions; keep it simple and readable.\n"
      ]
    },
    {
      "cell_type": "markdown",
      "id": "4eddd5e9",
      "metadata": {
        "id": "4eddd5e9"
      },
      "source": [
        "\n",
        "## Submission Checklist\n",
        "- [ ] I used `while` and/or `for` appropriately for each task.\n",
        "- [ ] I validated user input with `try/except` where required.\n",
        "- [ ] I used clear names, docstrings, and helpful comments.\n",
        "- [ ] I kept lines ≤ 79–99 chars and used proper whitespace.\n",
        "- [ ] ***  I have removed the reference to asserts as we have not learned this yet\n"
      ]
    },
    {
      "cell_type": "markdown",
      "id": "96a91da6",
      "metadata": {
        "id": "96a91da6"
      },
      "source": [
        "\n",
        "## Grading Rubric (25 pts)\n",
        "\n",
        "| Criterion | Points |\n",
        "|---|---:|\n",
        "| Program 1 — Stats loop (correctness + validation + clarity) | 6 |\n",
        "| Program 2 — Password attempts (logic + decisions + clarity) | 5 |\n",
        "| Program 3 — Collatz analyzer (while + for + validation) | 6 |\n",
        "| Program 5 — Grid count (nested loops + tests) | 5 |\n",
        "| Overall PEP 8 style & explanations | 3 |\n"
      ]
    }
  ],
  "metadata": {
    "colab": {
      "provenance": [],
      "include_colab_link": true
    },
    "language_info": {
      "name": "python"
    },
    "kernelspec": {
      "name": "python3",
      "display_name": "Python 3"
    }
  },
  "nbformat": 4,
  "nbformat_minor": 5
}