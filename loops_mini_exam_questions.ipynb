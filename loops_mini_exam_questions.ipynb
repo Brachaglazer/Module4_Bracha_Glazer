{
  "cells": [
    {
      "cell_type": "markdown",
      "metadata": {
        "id": "view-in-github",
        "colab_type": "text"
      },
      "source": [
        "<a href=\"https://colab.research.google.com/github/Brachaglazer/Module4_Bracha_Glazer/blob/main/loops_mini_exam_questions.ipynb\" target=\"_parent\"><img src=\"https://colab.research.google.com/assets/colab-badge.svg\" alt=\"Open In Colab\"/></a>"
      ]
    },
    {
      "cell_type": "markdown",
      "id": "6e143f87",
      "metadata": {
        "id": "6e143f87"
      },
      "source": [
        "# Intro Loops Mini‑Exam — All Coding (5 Questions)\n",
        "**Topics:** `for`, `while`, `range`, `break`, `continue`, basic `if/else`, optional `try/except`\n",
        "\n",
        "### Rules\n",
        "- Use `range` where helpful.\n",
        "- **Do not use** `enumerate`, list comprehensions, or **nested loops**.\n",
        "- You may use simple `try/except` for input validation where the prompt asks for it.\n",
        "- Keep code clear and commented (brief intent comments are enough).\n",
        "\n",
        "### What to Submit\n",
        "- Complete the five problems below in the provided code cells.\n",
        "- Do **not** modify the problem statements.\n",
        "- Run each cell to ensure it executes (no crashes on valid inputs).\n",
        "\n",
        "### Academic Honesty\n",
        "- Write your own code. Keep solutions simple and readable.\n"
      ]
    },
    {
      "cell_type": "markdown",
      "id": "b26ce537",
      "metadata": {
        "id": "b26ce537"
      },
      "source": [
        "## 1) Count Up (for + range)\n",
        "Ask the user for a **positive integer `n`**. Print the numbers **1..n** on **one line** separated by spaces.\n",
        "- Use a `for` loop with `range`.\n",
        "- If the input isn’t a positive integer, print a friendly error and stop.\n"
      ]
    },
    {
      "cell_type": "code",
      "execution_count": 220,
      "id": "238370a9",
      "metadata": {
        "id": "238370a9",
        "problem": 1,
        "colab": {
          "base_uri": "https://localhost:8080/"
        },
        "outputId": "8c303e04-ddb9-4c33-bc83-080712649fcc"
      },
      "outputs": [
        {
          "output_type": "stream",
          "name": "stdout",
          "text": [
            "Please provide a positive integer: 5\n",
            "[1, 2, 3, 4, 5]\n"
          ]
        }
      ],
      "source": [
        "# Write your solution here\n",
        "import sys\n",
        "\n",
        "list = []  # The list is empty until the loop runs and appends.\n",
        "\n",
        "try:\n",
        "    # User imputs number, which defines the range, to be used in the loop.\n",
        "    n = int(input(\"Please provide a positive integer: \"))\n",
        "    if n <= 0:  # Negative number is out of range.\n",
        "        raise ValueError(\"negative number\")\n",
        "except ValueError as e:\n",
        "    if str(e) == \"negative number\":\n",
        "        print(\"Positive numbers only.\")\n",
        "    else:\n",
        "        print(\"Invalid input.\")\n",
        "    sys.exit(1)\n",
        "\n",
        "for num in range(1, n + 1):  # + 1 makes loop range inclusive.\n",
        "    list.append(num)  # Add the number to the list.\n",
        "\n",
        "print(list)\n",
        "# I tried many ways to print it without the brackets and commas, I couldn't figure it out.\n",
        "# I also tried to create the program in a different way, so that it prints correctly."
      ]
    },
    {
      "cell_type": "markdown",
      "id": "2afee823",
      "metadata": {
        "id": "2afee823"
      },
      "source": [
        "## 2) Sum of Squares (for)\n",
        "Ask for a **positive integer `n`**. Compute and print **`1^2 + 2^2 + … + n^2`**.\n",
        "- Use a `for` loop.\n",
        "- Validate input (print an error and stop if invalid).\n"
      ]
    },
    {
      "cell_type": "code",
      "execution_count": 223,
      "id": "0f0ed988",
      "metadata": {
        "id": "0f0ed988",
        "problem": 2,
        "colab": {
          "base_uri": "https://localhost:8080/",
          "height": 88
        },
        "outputId": "2dff6011-e6d0-4424-c338-2e1c0e8e5bb1"
      },
      "outputs": [
        {
          "output_type": "stream",
          "name": "stdout",
          "text": [
            "Please provide a positive integer: 5\n",
            "55\n"
          ]
        },
        {
          "output_type": "execute_result",
          "data": {
            "text/plain": [
              "'\\nCalculations made when I used the ^ symbol:\\n1^2=3   1^4=5  \\n2^2=0   2^4=6   \\n3^2=1   3^4=7    \\n4^2=6   4^4=0    \\n5^2=7   5^4=1    \\n\\nIn reality:\\n1+2=3   1+4=5\\n2-2=0   2+4=6\\n3-2=1   3+4=7\\n4+2=6   4-4=0\\n5+2=7   5-4=1\\n'"
            ],
            "application/vnd.google.colaboratory.intrinsic+json": {
              "type": "string"
            }
          },
          "metadata": {},
          "execution_count": 223
        }
      ],
      "source": [
        "# Write your solution here\n",
        "import sys\n",
        "\n",
        "count = 0  # Count increases as the loop runs.\n",
        "\n",
        "try:\n",
        "    # User provides number to be used in loop.\n",
        "    n = int(input(\"Please provide a positive integer: \"))\n",
        "    if n <= 0:  # Negative number is out of range.\n",
        "        raise ValueError(\"negative number\")\n",
        "except ValueError as e:\n",
        "    if str(e) == \"negative number\":\n",
        "        print(\"Positive numbers only.\")\n",
        "    else:\n",
        "        print(\"Invalid input.\")\n",
        "    sys.exit(1)\n",
        "\n",
        "# Numbers from 1 until the user given number apply to the loop.\n",
        "for num in range(1, n + 1):\n",
        "    # Square of number is added to the count.\n",
        "    count += (num * num)  # ^ symbol was not working on computer.\n",
        "\n",
        "print(count)  # Count is the sum of squares of all numbers.\n",
        "\n",
        "\"\"\"\n",
        "Calculations made when I used the ^ symbol:\n",
        "1^2=3   1^4=5\n",
        "2^2=0   2^4=6\n",
        "3^2=1   3^4=7\n",
        "4^2=6   4^4=0\n",
        "5^2=7   5^4=1\n",
        "\n",
        "In reality:\n",
        "1+2=3   1+4=5\n",
        "2-2=0   2+4=6\n",
        "3-2=1   3+4=7\n",
        "4+2=6   4-4=0\n",
        "5+2=7   5-4=1\n",
        "\"\"\""
      ]
    },
    {
      "cell_type": "markdown",
      "id": "13dd0fd1",
      "metadata": {
        "id": "13dd0fd1"
      },
      "source": [
        "## 3) Min/Max with “done” (while + try/except)\n",
        "Repeatedly read integers until the user types **`done`**. Ignore invalid entries with a warning.\n",
        "At the end:\n",
        "- If at least one valid number was entered, print `min = ___, max = ___`.\n",
        "- Otherwise print `No numbers entered.`\n",
        "- Use a `while True:` loop and `break` on `'done'`.\n"
      ]
    },
    {
      "cell_type": "code",
      "execution_count": 147,
      "id": "e8afc3b3",
      "metadata": {
        "id": "e8afc3b3",
        "problem": 3,
        "colab": {
          "base_uri": "https://localhost:8080/"
        },
        "outputId": "1d3cd353-d7cc-441a-e759-6dcb8676efca"
      },
      "outputs": [
        {
          "output_type": "stream",
          "name": "stdout",
          "text": [
            "Please provide an integer or 'done' to exit: 5\n",
            "Please provide an integer or 'done' to exit: hi\n",
            "Invalid input.\n",
            "Please provide an integer or 'done' to exit: 7\n",
            "Please provide an integer or 'done' to exit: 3\n",
            "Please provide an integer or 'done' to exit: DONE\n",
            "min = 3, max = 7\n"
          ]
        }
      ],
      "source": [
        "# Write your solution here\n",
        "min = None  # Minimum takes on first number entered in loop and then changes.\n",
        "max = None  # Maximum takes on first number entered in loop and then changes.\n",
        "\n",
        "while True:  # Loop will run until sentinel 'done' is entered.\n",
        "    number = input(\"Please provide an integer or 'done' to exit: \")\n",
        "    if number.strip().lower() == \"done\":  # Handle done before changing to int.\n",
        "        break\n",
        "    try:\n",
        "        int(number)\n",
        "        # None can't be compared to int so needs its own if.\n",
        "        if min == None:  # \"or max == None:\" not necessary, only applies when min == None.\n",
        "            min = number\n",
        "            max = number\n",
        "        elif number < min:  # Once first number is entered, min holds int value.\n",
        "            min = number\n",
        "        elif number > max:  # Once first number is entered, max holds int value.\n",
        "            max = number\n",
        "    except ValueError:\n",
        "        print(\"Invalid input.\")\n",
        "        continue  # Ignore invalid entries, will run loop again.\n",
        "\n",
        "if min == None:  # Once any number entered, min holds a value other than None.\n",
        "    print(\"No numbers entered.\")\n",
        "else:  # If min != None then a number must have been entered.\n",
        "    print(f\"min = {min}, max = {max}\")"
      ]
    },
    {
      "cell_type": "markdown",
      "id": "950eed12",
      "metadata": {
        "id": "950eed12"
      },
      "source": [
        "## 4) Skip & Stop (for + continue/break)\n",
        "Ask for a **positive integer `n`** (upper bound).\n",
        "- Loop from **1..n**.\n",
        "- **Skip** (do not print) numbers that are multiples of **4** using `continue`.\n",
        "- If you reach **42**, **print 42 and then stop** the loop using `break`.\n",
        "- Each printed number goes on its own line.\n",
        "- Validate input; print an error and stop if invalid.\n"
      ]
    },
    {
      "cell_type": "code",
      "execution_count": 152,
      "id": "cfd13035",
      "metadata": {
        "id": "cfd13035",
        "problem": 4,
        "colab": {
          "base_uri": "https://localhost:8080/"
        },
        "outputId": "429ff3f4-a091-4dc1-bcb2-22c84e25e327"
      },
      "outputs": [
        {
          "output_type": "stream",
          "name": "stdout",
          "text": [
            "Please provide a positive integer: 45\n",
            "1\n",
            "2\n",
            "3\n",
            "5\n",
            "6\n",
            "7\n",
            "9\n",
            "10\n",
            "11\n",
            "13\n",
            "14\n",
            "15\n",
            "17\n",
            "18\n",
            "19\n",
            "21\n",
            "22\n",
            "23\n",
            "25\n",
            "26\n",
            "27\n",
            "29\n",
            "30\n",
            "31\n",
            "33\n",
            "34\n",
            "35\n",
            "37\n",
            "38\n",
            "39\n",
            "41\n",
            "42\n"
          ]
        }
      ],
      "source": [
        "# Write your solution here\n",
        "import sys\n",
        "\n",
        "try:\n",
        "    # User provides number to be used in loop.\n",
        "    n = int(input(\"Please provide a positive integer: \"))\n",
        "except ValueError:\n",
        "    print(\"Invalid input. System exiting.\")\n",
        "    sys.exit(1)\n",
        "\n",
        "# Numbers from 1 until the user given number apply to the loop.\n",
        "for num in range(1, n + 1):\n",
        "    if num % 4 == 0:  # If num divided by 4 has 0 remainder, skip.\n",
        "        continue\n",
        "    elif num == 42:  # If reach 42, print, and stop loop.\n",
        "        print(num)\n",
        "        break\n",
        "    else:  # Rest of numbers within range of 1 and user input.\n",
        "        print(num)\n"
      ]
    },
    {
      "cell_type": "markdown",
      "id": "34d640d5",
      "metadata": {
        "id": "34d640d5"
      },
      "source": [
        "## 5) Even Sum with Entry Limit (while + try/except)\n",
        "Ask for a **target count `k`** (how many entries to read). Then read up to `k` user inputs (one per loop).\n",
        "- Convert each to `int` with `try/except`.\n",
        "- Keep a running **sum of even numbers only** (ignore odds and invalid entries).\n",
        "- After `k` inputs, print `even_sum = ___, valid_evens = ___`.\n",
        "- If `k` isn’t a positive integer, print an error and stop.\n"
      ]
    },
    {
      "cell_type": "code",
      "execution_count": 161,
      "id": "a7717a90",
      "metadata": {
        "id": "a7717a90",
        "problem": 5,
        "colab": {
          "base_uri": "https://localhost:8080/"
        },
        "outputId": "1954b0db-f971-46ac-cd49-fac67aac32de"
      },
      "outputs": [
        {
          "output_type": "stream",
          "name": "stdout",
          "text": [
            "Please provide a target count: 5\n",
            "Entry #1: 4\n",
            "Entry #2: h\n",
            "Entry #3: 7\n",
            "Entry #4: 12\n",
            "Entry #5: 6\n",
            "even_sum = 22, valid_evens = 3\n"
          ]
        }
      ],
      "source": [
        "# Write your solution here\n",
        "import sys\n",
        "\n",
        "attempts = 0  # No attempts until loop runs.\n",
        "even_sum = 0  # No even numbers entered until loop runs.\n",
        "valid_evens = 0  # No evens entered until loop runs.\n",
        "\n",
        "try:\n",
        "    # User provides amount of times loop runs.\n",
        "    k = int(input(\"Please provide a target count: \"))\n",
        "except ValueError:\n",
        "    print(\"Invalid input. System exiting.\")\n",
        "    sys.exit(1)\n",
        "\n",
        "while attempts < k:  # Loop runs until user chosen attmpts reached.\n",
        "    entry = input(f\"Entry #{attempts +1}: \")\n",
        "    attempts += 1  # Each entry is another attempt.\n",
        "    try:\n",
        "        if int(entry) % 2 == 0:  # If entry is an integer that is divisible by 2.\n",
        "            even_sum += int(entry)  # Even numbers are added to the sum of evens.\n",
        "            valid_evens += 1  # Every even number entry is another valid even.\n",
        "        else:  # If the entry is not an even number, an odd number.\n",
        "            continue\n",
        "    except ValueError:  # If the entry is not an integer.\n",
        "        continue\n",
        "\n",
        "print(f\"even_sum = {even_sum}, valid_evens = {valid_evens}\")\n",
        ""
      ]
    },
    {
      "cell_type": "markdown",
      "source": [
        "## 6)  How long did you work on this quiz ? Was this quiz : hard, easy, just right ?"
      ],
      "metadata": {
        "id": "m9THXy-oU-Ud"
      },
      "id": "m9THXy-oU-Ud"
    },
    {
      "cell_type": "markdown",
      "source": [
        "Answer here :  \n",
        "\n",
        "3.5 hours  \n",
        "I got stuck on two things which took up a lot of time. Other than that, the quiz was okay. Thank you for making the quiz untimed it was a lot easier to think clearly and answer properly."
      ],
      "metadata": {
        "id": "IzQbO93tVKDv"
      },
      "id": "IzQbO93tVKDv"
    }
  ],
  "metadata": {
    "kernelspec": {
      "display_name": "Python 3",
      "language": "python",
      "name": "python3"
    },
    "language_info": {
      "name": "python"
    },
    "colab": {
      "provenance": [],
      "include_colab_link": true
    }
  },
  "nbformat": 4,
  "nbformat_minor": 5
}