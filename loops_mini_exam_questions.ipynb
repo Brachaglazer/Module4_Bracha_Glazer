{
  "cells": [
    {
      "cell_type": "markdown",
      "metadata": {
        "id": "view-in-github",
        "colab_type": "text"
      },
      "source": [
        "<a href=\"https://colab.research.google.com/github/Brachaglazer/Module4_Bracha_Glazer/blob/main/loops_mini_exam_questions.ipynb\" target=\"_parent\"><img src=\"https://colab.research.google.com/assets/colab-badge.svg\" alt=\"Open In Colab\"/></a>"
      ]
    },
    {
      "cell_type": "markdown",
      "id": "6e143f87",
      "metadata": {
        "id": "6e143f87"
      },
      "source": [
        "# Intro Loops Mini‑Exam — All Coding (5 Questions)\n",
        "**Topics:** `for`, `while`, `range`, `break`, `continue`, basic `if/else`, optional `try/except`\n",
        "\n",
        "### Rules\n",
        "- Use `range` where helpful.\n",
        "- **Do not use** `enumerate`, list comprehensions, or **nested loops**.\n",
        "- You may use simple `try/except` for input validation where the prompt asks for it.\n",
        "- Keep code clear and commented (brief intent comments are enough).\n",
        "\n",
        "### What to Submit\n",
        "- Complete the five problems below in the provided code cells.\n",
        "- Do **not** modify the problem statements.\n",
        "- Run each cell to ensure it executes (no crashes on valid inputs).\n",
        "\n",
        "### Academic Honesty\n",
        "- Write your own code. Keep solutions simple and readable.\n"
      ]
    },
    {
      "cell_type": "markdown",
      "id": "b26ce537",
      "metadata": {
        "id": "b26ce537"
      },
      "source": [
        "## 1) Count Up (for + range)\n",
        "Ask the user for a **positive integer `n`**. Print the numbers **1..n** on **one line** separated by spaces.\n",
        "- Use a `for` loop with `range`.\n",
        "- If the input isn’t a positive integer, print a friendly error and stop.\n"
      ]
    },
    {
      "cell_type": "code",
      "execution_count": 119,
      "id": "238370a9",
      "metadata": {
        "id": "238370a9",
        "problem": 1,
        "colab": {
          "base_uri": "https://localhost:8080/"
        },
        "outputId": "b2016046-7385-441a-b2bf-c1704cec3fbe"
      },
      "outputs": [
        {
          "output_type": "stream",
          "name": "stdout",
          "text": [
            "Please provide a positive integer: 5\n",
            "[1, 2, 3, 4, 5]\n"
          ]
        }
      ],
      "source": [
        "# Write your solution here\n",
        "import sys\n",
        "\n",
        "list = []\n",
        "#count = 0\n",
        "\n",
        "try:\n",
        "    n = int(input(\"Please provide a positive integer: \"))\n",
        "except ValueError:\n",
        "    print(\"Invalid input.\")\n",
        "    sys.exit(1)\n",
        "\n",
        "for n in range(1, n + 1):\n",
        "    #print(1, n + 1)\n",
        "    list.append(n)\n",
        "#for number in list:\n",
        "    #count += number\n",
        "\n",
        "\n",
        "print(list)\n",
        "#print(count)\n",
        "\n"
      ]
    },
    {
      "cell_type": "markdown",
      "id": "2afee823",
      "metadata": {
        "id": "2afee823"
      },
      "source": [
        "## 2) Sum of Squares (for)\n",
        "Ask for a **positive integer `n`**. Compute and print **`1^2 + 2^2 + … + n^2`**.\n",
        "- Use a `for` loop.\n",
        "- Validate input (print an error and stop if invalid).\n"
      ]
    },
    {
      "cell_type": "code",
      "execution_count": 136,
      "id": "0f0ed988",
      "metadata": {
        "id": "0f0ed988",
        "problem": 2,
        "colab": {
          "base_uri": "https://localhost:8080/",
          "height": 70
        },
        "outputId": "b9ddc0c2-07a1-4afb-8e13-a1eb59eaa9e9"
      },
      "outputs": [
        {
          "output_type": "stream",
          "name": "stdout",
          "text": [
            "Please provide a positive integer: 2\n",
            "3\n"
          ]
        },
        {
          "output_type": "execute_result",
          "data": {
            "text/plain": [
              "'\\n1+2=3 1+4=5\\n2-2=0 2+4=6\\n3-2=1 3+4=7\\n4+2=6 4-4=0\\n5+2=7 5-4=1\\n\\n'"
            ],
            "application/vnd.google.colaboratory.intrinsic+json": {
              "type": "string"
            }
          },
          "metadata": {},
          "execution_count": 136
        }
      ],
      "source": [
        "# Write your solution here\n",
        "import sys\n",
        "\n",
        "\n",
        "count = 0  # Count increases as the loop runs.\n",
        "\n",
        "try:\n",
        "    # User provides number to be used in loop.\n",
        "    n = int(input(\"Please provide a positive integer: \"))\n",
        "except ValueError:\n",
        "    print(\"Invalid input. System exiting.\")\n",
        "    sys.exit(1)\n",
        "\n",
        "# Numbers from 1 until the user given number apply to the loop.\n",
        "for num in range(1, n + 1):\n",
        "    # Square of number is added to the count.\n",
        "    count += (num * num)  # ^ symbol was not working on computer.\n",
        "\n",
        "print(count)  # Count is the sum of squares of all numbers.\n",
        "\"\"\"\n",
        "Calculations made when I used the ^ symbol:\n",
        "1^2=3   1^4=5\n",
        "2^2=0   2^4=6\n",
        "3^2=1   3^4=7\n",
        "4^2=6   4^4=0\n",
        "5^2=7   5^4=1\n",
        "\n",
        "In reality:\n",
        "1+2=3   1+4=5\n",
        "2-2=0   2+4=6\n",
        "3-2=1   3+4=7\n",
        "4+2=6   4-4=0\n",
        "5+2=7   5-4=1\n",
        "\"\"\""
      ]
    },
    {
      "cell_type": "markdown",
      "id": "13dd0fd1",
      "metadata": {
        "id": "13dd0fd1"
      },
      "source": [
        "## 3) Min/Max with “done” (while + try/except)\n",
        "Repeatedly read integers until the user types **`done`**. Ignore invalid entries with a warning.\n",
        "At the end:\n",
        "- If at least one valid number was entered, print `min = ___, max = ___`.\n",
        "- Otherwise print `No numbers entered.`\n",
        "- Use a `while True:` loop and `break` on `'done'`.\n"
      ]
    },
    {
      "cell_type": "code",
      "execution_count": null,
      "id": "e8afc3b3",
      "metadata": {
        "id": "e8afc3b3",
        "problem": 3
      },
      "outputs": [],
      "source": [
        "# Write your solution here\n"
      ]
    },
    {
      "cell_type": "markdown",
      "id": "950eed12",
      "metadata": {
        "id": "950eed12"
      },
      "source": [
        "## 4) Skip & Stop (for + continue/break)\n",
        "Ask for a **positive integer `n`** (upper bound).\n",
        "- Loop from **1..n**.\n",
        "- **Skip** (do not print) numbers that are multiples of **4** using `continue`.\n",
        "- If you reach **42**, **print 42 and then stop** the loop using `break`.\n",
        "- Each printed number goes on its own line.\n",
        "- Validate input; print an error and stop if invalid.\n"
      ]
    },
    {
      "cell_type": "code",
      "execution_count": null,
      "id": "cfd13035",
      "metadata": {
        "id": "cfd13035",
        "problem": 4
      },
      "outputs": [],
      "source": [
        "# Write your solution here\n"
      ]
    },
    {
      "cell_type": "markdown",
      "id": "34d640d5",
      "metadata": {
        "id": "34d640d5"
      },
      "source": [
        "## 5) Even Sum with Entry Limit (while + try/except)\n",
        "Ask for a **target count `k`** (how many entries to read). Then read up to `k` user inputs (one per loop).\n",
        "- Convert each to `int` with `try/except`.\n",
        "- Keep a running **sum of even numbers only** (ignore odds and invalid entries).\n",
        "- After `k` inputs, print `even_sum = ___, valid_evens = ___`.\n",
        "- If `k` isn’t a positive integer, print an error and stop.\n"
      ]
    },
    {
      "cell_type": "code",
      "execution_count": null,
      "id": "a7717a90",
      "metadata": {
        "id": "a7717a90",
        "problem": 5
      },
      "outputs": [],
      "source": [
        "# Write your solution here\n"
      ]
    },
    {
      "cell_type": "markdown",
      "source": [
        "## 6)  How long did you work on this quiz ? Was this quiz : hard, easy, just right ?"
      ],
      "metadata": {
        "id": "m9THXy-oU-Ud"
      },
      "id": "m9THXy-oU-Ud"
    },
    {
      "cell_type": "markdown",
      "source": [
        "Answer here :"
      ],
      "metadata": {
        "id": "IzQbO93tVKDv"
      },
      "id": "IzQbO93tVKDv"
    }
  ],
  "metadata": {
    "kernelspec": {
      "display_name": "Python 3",
      "language": "python",
      "name": "python3"
    },
    "language_info": {
      "name": "python"
    },
    "colab": {
      "provenance": [],
      "include_colab_link": true
    }
  },
  "nbformat": 4,
  "nbformat_minor": 5
}